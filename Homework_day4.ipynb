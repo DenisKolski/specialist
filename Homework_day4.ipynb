{
 "cells": [
  {
   "cell_type": "markdown",
   "metadata": {},
   "source": [
    "### Домашнее задание"
   ]
  },
  {
   "cell_type": "markdown",
   "metadata": {},
   "source": [
    "#### Домашнее задание 0\n",
    "Посчитать с помощью $(3 + \\sqrt{3} i)^{20} $  тригонометрии"
   ]
  },
  {
   "cell_type": "code",
   "execution_count": 1,
   "metadata": {},
   "outputs": [],
   "source": [
    "import sympy as sp"
   ]
  },
  {
   "cell_type": "code",
   "execution_count": 2,
   "metadata": {},
   "outputs": [
    {
     "data": {
      "text/latex": [
       "$\\displaystyle 3 + \\sqrt{3} i$"
      ],
      "text/plain": [
       "3 + sqrt(3)*I"
      ]
     },
     "execution_count": 2,
     "metadata": {},
     "output_type": "execute_result"
    }
   ],
   "source": [
    "a = 3 + sp.sqrt(3)*sp.I; a"
   ]
  },
  {
   "cell_type": "code",
   "execution_count": 3,
   "metadata": {},
   "outputs": [
    {
     "data": {
      "text/latex": [
       "$\\displaystyle \\sqrt{6}$"
      ],
      "text/plain": [
       "sqrt(6)"
      ]
     },
     "execution_count": 3,
     "metadata": {},
     "output_type": "execute_result"
    }
   ],
   "source": [
    "# расчет модуля\n",
    "mod = sp.sqrt(sp.re(a)**2+(sp.im(a)*sp.I)**2);mod\n"
   ]
  },
  {
   "cell_type": "code",
   "execution_count": 4,
   "metadata": {},
   "outputs": [
    {
     "data": {
      "text/latex": [
       "$\\displaystyle \\operatorname{acos}{\\left(\\frac{\\sqrt{6}}{2} \\right)}$"
      ],
      "text/plain": [
       "acos(sqrt(6)/2)"
      ]
     },
     "execution_count": 4,
     "metadata": {},
     "output_type": "execute_result"
    }
   ],
   "source": [
    "# расчет угла\n",
    "fi = sp.acos(3/(mod)); fi"
   ]
  },
  {
   "cell_type": "code",
   "execution_count": 5,
   "metadata": {},
   "outputs": [
    {
     "data": {
      "text/latex": [
       "$\\displaystyle 60466176 \\left(- \\frac{\\sqrt{2}}{2} + \\frac{\\sqrt{6}}{2}\\right)^{20}$"
      ],
      "text/plain": [
       "60466176*(-sqrt(2)/2 + sqrt(6)/2)**20"
      ]
     },
     "execution_count": 5,
     "metadata": {},
     "output_type": "execute_result"
    }
   ],
   "source": [
    "(mod*(sp.cos(fi) +sp.I*sp.sin(fi)))**20"
   ]
  },
  {
   "cell_type": "markdown",
   "metadata": {},
   "source": [
    "#### Задание №1\n",
    "<font size='4'>Найти производную первого порядка следующих функций: </font>"
   ]
  },
  {
   "cell_type": "markdown",
   "metadata": {},
   "source": [
    "<font size='5'>$f(x) = \\frac{3^x+5}{cos(x)}$ </font>"
   ]
  },
  {
   "cell_type": "code",
   "execution_count": 6,
   "metadata": {},
   "outputs": [],
   "source": [
    "x = sp.symbols('x')"
   ]
  },
  {
   "cell_type": "code",
   "execution_count": 7,
   "metadata": {},
   "outputs": [
    {
     "data": {
      "text/latex": [
       "$\\displaystyle \\frac{3^{x} + 5}{\\cos{\\left(x \\right)}}$"
      ],
      "text/plain": [
       "(3**x + 5)/cos(x)"
      ]
     },
     "execution_count": 7,
     "metadata": {},
     "output_type": "execute_result"
    }
   ],
   "source": [
    "f = (3**x+5)/sp.cos(x); f"
   ]
  },
  {
   "cell_type": "code",
   "execution_count": 8,
   "metadata": {},
   "outputs": [
    {
     "data": {
      "text/latex": [
       "$\\displaystyle \\frac{3^{x} \\log{\\left(3 \\right)}}{\\cos{\\left(x \\right)}} + \\frac{\\left(3^{x} + 5\\right) \\sin{\\left(x \\right)}}{\\cos^{2}{\\left(x \\right)}}$"
      ],
      "text/plain": [
       "3**x*log(3)/cos(x) + (3**x + 5)*sin(x)/cos(x)**2"
      ]
     },
     "execution_count": 8,
     "metadata": {},
     "output_type": "execute_result"
    }
   ],
   "source": [
    "f.diff(x)"
   ]
  },
  {
   "cell_type": "markdown",
   "metadata": {},
   "source": [
    "<font size='5'>$f(x) = \\frac{1+x^2}{1-x^2}$ </font>"
   ]
  },
  {
   "cell_type": "code",
   "execution_count": 9,
   "metadata": {},
   "outputs": [
    {
     "data": {
      "text/latex": [
       "$\\displaystyle \\frac{x^{2} + 1}{1 - x^{2}}$"
      ],
      "text/plain": [
       "(x**2 + 1)/(1 - x**2)"
      ]
     },
     "execution_count": 9,
     "metadata": {},
     "output_type": "execute_result"
    }
   ],
   "source": [
    "f = (1+x**2)/(1-x**2); f\n"
   ]
  },
  {
   "cell_type": "code",
   "execution_count": 10,
   "metadata": {},
   "outputs": [
    {
     "data": {
      "text/latex": [
       "$\\displaystyle \\frac{2 x}{1 - x^{2}} + \\frac{2 x \\left(x^{2} + 1\\right)}{\\left(1 - x^{2}\\right)^{2}}$"
      ],
      "text/plain": [
       "2*x/(1 - x**2) + 2*x*(x**2 + 1)/(1 - x**2)**2"
      ]
     },
     "execution_count": 10,
     "metadata": {},
     "output_type": "execute_result"
    }
   ],
   "source": [
    "f.diff(x)"
   ]
  },
  {
   "cell_type": "markdown",
   "metadata": {},
   "source": [
    "<font size='4'>$f(x) = -2xe^{3x}+(x^2-4x+3)sin7x$ </font>"
   ]
  },
  {
   "cell_type": "code",
   "execution_count": 11,
   "metadata": {},
   "outputs": [
    {
     "data": {
      "text/latex": [
       "$\\displaystyle - 2 x e^{3 x} + \\left(x^{2} - 4 x + 3\\right) \\sin{\\left(7 x \\right)}$"
      ],
      "text/plain": [
       "-2*x*exp(3*x) + (x**2 - 4*x + 3)*sin(7*x)"
      ]
     },
     "execution_count": 11,
     "metadata": {},
     "output_type": "execute_result"
    }
   ],
   "source": [
    "f = -2 * x * (sp.E)**(3*x)+(x**2 - 4*x + 3)*sp.sin(7*x); f\n"
   ]
  },
  {
   "cell_type": "code",
   "execution_count": 12,
   "metadata": {},
   "outputs": [
    {
     "data": {
      "text/latex": [
       "$\\displaystyle - 6 x e^{3 x} + \\left(2 x - 4\\right) \\sin{\\left(7 x \\right)} + 7 \\left(x^{2} - 4 x + 3\\right) \\cos{\\left(7 x \\right)} - 2 e^{3 x}$"
      ],
      "text/plain": [
       "-6*x*exp(3*x) + (2*x - 4)*sin(7*x) + 7*(x**2 - 4*x + 3)*cos(7*x) - 2*exp(3*x)"
      ]
     },
     "execution_count": 12,
     "metadata": {},
     "output_type": "execute_result"
    }
   ],
   "source": [
    "f.diff(x)"
   ]
  },
  {
   "cell_type": "markdown",
   "metadata": {},
   "source": [
    "#### Задание №2\n",
    "<font size='4'>Найти первую и вторую производные функции и построить их графики.  </font>  \n",
    "<font size='4'> Пример 1. $f(x) = e^{tg3x}$ </font>  \n",
    "<font size='4'> Пример 2. $f(x) = x^3-4x+13$ </font>"
   ]
  },
  {
   "cell_type": "code",
   "execution_count": 13,
   "metadata": {},
   "outputs": [
    {
     "data": {
      "text/latex": [
       "$\\displaystyle e^{\\tan{\\left(3 x \\right)}}$"
      ],
      "text/plain": [
       "exp(tan(3*x))"
      ]
     },
     "execution_count": 13,
     "metadata": {},
     "output_type": "execute_result"
    }
   ],
   "source": [
    "f = (sp.E)**(sp.tan(3*x));f"
   ]
  },
  {
   "cell_type": "code",
   "execution_count": 14,
   "metadata": {},
   "outputs": [
    {
     "data": {
      "text/latex": [
       "$\\displaystyle 9 \\left(\\tan^{2}{\\left(3 x \\right)} + 1\\right) \\left(\\tan^{2}{\\left(3 x \\right)} + 2 \\tan{\\left(3 x \\right)} + 1\\right) e^{\\tan{\\left(3 x \\right)}}$"
      ],
      "text/plain": [
       "9*(tan(3*x)**2 + 1)*(tan(3*x)**2 + 2*tan(3*x) + 1)*exp(tan(3*x))"
      ]
     },
     "execution_count": 14,
     "metadata": {},
     "output_type": "execute_result"
    }
   ],
   "source": [
    "f.diff(x, 2)"
   ]
  },
  {
   "cell_type": "markdown",
   "metadata": {},
   "source": [
    "#### Задание №3"
   ]
  },
  {
   "cell_type": "markdown",
   "metadata": {},
   "source": [
    "<font size='4'>Найти производную десятого порядка $y^{(10)}$ для функции: $ y=ln(2x-1)$ </font>"
   ]
  },
  {
   "cell_type": "code",
   "execution_count": 15,
   "metadata": {},
   "outputs": [
    {
     "data": {
      "text/latex": [
       "$\\displaystyle \\log{\\left(2 x - 1 \\right)}$"
      ],
      "text/plain": [
       "log(2*x - 1)"
      ]
     },
     "execution_count": 15,
     "metadata": {},
     "output_type": "execute_result"
    }
   ],
   "source": [
    "f = sp.ln(2*x -1);f"
   ]
  },
  {
   "cell_type": "code",
   "execution_count": 16,
   "metadata": {},
   "outputs": [
    {
     "data": {
      "text/latex": [
       "$\\displaystyle - \\frac{371589120}{\\left(2 x - 1\\right)^{10}}$"
      ],
      "text/plain": [
       "-371589120/(2*x - 1)**10"
      ]
     },
     "execution_count": 16,
     "metadata": {},
     "output_type": "execute_result"
    }
   ],
   "source": [
    "f.diff(x, 10)"
   ]
  }
 ],
 "metadata": {
  "kernelspec": {
   "display_name": "Python 3",
   "language": "python",
   "name": "python3"
  },
  "language_info": {
   "codemirror_mode": {
    "name": "ipython",
    "version": 3
   },
   "file_extension": ".py",
   "mimetype": "text/x-python",
   "name": "python",
   "nbconvert_exporter": "python",
   "pygments_lexer": "ipython3",
   "version": "3.8.8"
  }
 },
 "nbformat": 4,
 "nbformat_minor": 4
}
