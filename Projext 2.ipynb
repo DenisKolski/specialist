{
 "cells": [
  {
   "cell_type": "markdown",
   "metadata": {
    "toc": true
   },
   "source": [
    "<h1>Содержание<span class=\"tocSkip\"></span></h1>\n",
    "<div class=\"toc\"><ul class=\"toc-item\"><li><span><a href=\"#Подготовка-данных\" data-toc-modified-id=\"Подготовка-данных-1\"><span class=\"toc-item-num\">1&nbsp;&nbsp;</span>Подготовка данных</a></span><ul class=\"toc-item\"><li><span><a href=\"#Первичный-анализ-данных\" data-toc-modified-id=\"Первичный-анализ-данных-1.1\"><span class=\"toc-item-num\">1.1&nbsp;&nbsp;</span>Первичный анализ данных</a></span></li><li><span><a href=\"#Расчет-MAE-между-расчётами-и-значением-признака-от-заказчика\" data-toc-modified-id=\"Расчет-MAE-между-расчётами-и-значением-признака-от-заказчика-1.2\"><span class=\"toc-item-num\">1.2&nbsp;&nbsp;</span>Расчет MAE между расчётами и значением признака от заказчика</a></span></li><li><span><a href=\"#Анализ-признаков,-недоступные-в-тестовой-выборке\" data-toc-modified-id=\"Анализ-признаков,-недоступные-в-тестовой-выборке-1.3\"><span class=\"toc-item-num\">1.3&nbsp;&nbsp;</span>Анализ признаков, недоступные в тестовой выборке</a></span></li><li><span><a href=\"#Предобработка-данных\" data-toc-modified-id=\"Предобработка-данных-1.4\"><span class=\"toc-item-num\">1.4&nbsp;&nbsp;</span>Предобработка данных</a></span></li></ul></li><li><span><a href=\"#Анализ-данных\" data-toc-modified-id=\"Анализ-данных-2\"><span class=\"toc-item-num\">2&nbsp;&nbsp;</span>Анализ данных</a></span><ul class=\"toc-item\"><li><span><a href=\"#Анализ-концентрации-металлов-(Au,-Ag,-Pb)-на-различных-этапах-очистки\" data-toc-modified-id=\"Анализ-концентрации-металлов-(Au,-Ag,-Pb)-на-различных-этапах-очистки-2.1\"><span class=\"toc-item-num\">2.1&nbsp;&nbsp;</span>Анализ концентрации металлов (Au, Ag, Pb) на различных этапах очистки</a></span></li><li><span><a href=\"#Анализ-распределения-размеров-гранул-сырья-на-обучающей-и-тестовой-выборках\" data-toc-modified-id=\"Анализ-распределения-размеров-гранул-сырья-на-обучающей-и-тестовой-выборках-2.2\"><span class=\"toc-item-num\">2.2&nbsp;&nbsp;</span>Анализ распределения размеров гранул сырья на обучающей и тестовой выборках</a></span></li></ul></li><li><span><a href=\"#Модель\" data-toc-modified-id=\"Модель-3\"><span class=\"toc-item-num\">3&nbsp;&nbsp;</span>Модель</a></span></li><li><span><a href=\"#Чек-лист-готовности-проекта\" data-toc-modified-id=\"Чек-лист-готовности-проекта-4\"><span class=\"toc-item-num\">4&nbsp;&nbsp;</span>Чек-лист готовности проекта</a></span></li></ul></div>"
   ]
  },
  {
   "cell_type": "markdown",
   "metadata": {},
   "source": [
    "# Восстановление золота из руды"
   ]
  },
  {
   "cell_type": "markdown",
   "metadata": {},
   "source": [
    "Подготовьте прототип модели машинного обучения для «Цифры». Компания разрабатывает решения для эффективной работы промышленных предприятий.\n",
    "\n",
    "Модель должна предсказать коэффициент восстановления золота из золотосодержащей руды. Используйте данные с параметрами добычи и очистки. \n",
    "\n",
    "Модель поможет оптимизировать производство, чтобы не запускать предприятие с убыточными характеристиками.\n",
    "\n",
    "Вам нужно:\n",
    "\n",
    "1. Подготовить данные;\n",
    "2. Провести исследовательский анализ данных;\n",
    "3. Построить и обучить модель.\n",
    "\n",
    "Чтобы выполнить проект, обращайтесь к библиотекам *pandas*, *matplotlib* и *sklearn.* Вам поможет их документация."
   ]
  },
  {
   "cell_type": "markdown",
   "metadata": {},
   "source": [
    "## Подготовка данных"
   ]
  },
  {
   "cell_type": "code",
   "execution_count": 1,
   "metadata": {},
   "outputs": [],
   "source": [
    "import matplotlib.pyplot as plt\n",
    "import numpy as np\n",
    "import pandas as pd\n",
    "\n",
    "import seaborn as sns\n",
    "from sklearn.dummy import DummyRegressor\n",
    "from sklearn.ensemble import RandomForestRegressor\n",
    "from sklearn.linear_model import LinearRegression\n",
    "from sklearn.metrics import mean_absolute_error\n",
    "import matplotlib.patches as mpatches\n",
    "from sklearn.model_selection import cross_val_score, KFold, StratifiedKFold\n",
    "from sklearn.preprocessing import StandardScaler\n",
    "from sklearn.tree import DecisionTreeRegressor\n",
    "from scipy.stats import mannwhitneyu,ttest_ind, ttest_rel \n",
    "\n",
    "import warnings\n",
    "warnings.filterwarnings(\"ignore\")\n"
   ]
  },
  {
   "cell_type": "code",
   "execution_count": 2,
   "metadata": {},
   "outputs": [],
   "source": [
    "RND = 12345"
   ]
  },
  {
   "cell_type": "markdown",
   "metadata": {},
   "source": [
    "### Первичный анализ данных "
   ]
  },
  {
   "cell_type": "code",
   "execution_count": 3,
   "metadata": {},
   "outputs": [],
   "source": [
    "df_train = pd.read_csv('https://code.s3.yandex.net/datasets/gold_recovery_train_new.csv')   # обучающая выборка\n",
    "df_test = pd.read_csv('https://code.s3.yandex.net/datasets/gold_recovery_test_new.csv')     # тестовая выборка\n",
    "df_full = pd.read_csv('https://code.s3.yandex.net/datasets/gold_recovery_full_new.csv')     # исходные данные"
   ]
  },
  {
   "cell_type": "code",
   "execution_count": 4,
   "metadata": {},
   "outputs": [
    {
     "data": {
      "text/html": [
       "<div>\n",
       "<style scoped>\n",
       "    .dataframe tbody tr th:only-of-type {\n",
       "        vertical-align: middle;\n",
       "    }\n",
       "\n",
       "    .dataframe tbody tr th {\n",
       "        vertical-align: top;\n",
       "    }\n",
       "\n",
       "    .dataframe thead th {\n",
       "        text-align: right;\n",
       "    }\n",
       "</style>\n",
       "<table border=\"1\" class=\"dataframe\">\n",
       "  <thead>\n",
       "    <tr style=\"text-align: right;\">\n",
       "      <th></th>\n",
       "      <th>date</th>\n",
       "      <th>final.output.concentrate_ag</th>\n",
       "      <th>final.output.concentrate_pb</th>\n",
       "      <th>final.output.concentrate_sol</th>\n",
       "      <th>final.output.concentrate_au</th>\n",
       "      <th>final.output.recovery</th>\n",
       "      <th>final.output.tail_ag</th>\n",
       "      <th>final.output.tail_pb</th>\n",
       "      <th>final.output.tail_sol</th>\n",
       "      <th>final.output.tail_au</th>\n",
       "      <th>...</th>\n",
       "      <th>secondary_cleaner.state.floatbank4_a_air</th>\n",
       "      <th>secondary_cleaner.state.floatbank4_a_level</th>\n",
       "      <th>secondary_cleaner.state.floatbank4_b_air</th>\n",
       "      <th>secondary_cleaner.state.floatbank4_b_level</th>\n",
       "      <th>secondary_cleaner.state.floatbank5_a_air</th>\n",
       "      <th>secondary_cleaner.state.floatbank5_a_level</th>\n",
       "      <th>secondary_cleaner.state.floatbank5_b_air</th>\n",
       "      <th>secondary_cleaner.state.floatbank5_b_level</th>\n",
       "      <th>secondary_cleaner.state.floatbank6_a_air</th>\n",
       "      <th>secondary_cleaner.state.floatbank6_a_level</th>\n",
       "    </tr>\n",
       "  </thead>\n",
       "  <tbody>\n",
       "    <tr>\n",
       "      <td>13237</td>\n",
       "      <td>2017-10-11 17:59:59</td>\n",
       "      <td>4.196164</td>\n",
       "      <td>12.074998</td>\n",
       "      <td>6.573477</td>\n",
       "      <td>44.921836</td>\n",
       "      <td>72.623453</td>\n",
       "      <td>6.055701</td>\n",
       "      <td>2.944820</td>\n",
       "      <td>11.881701</td>\n",
       "      <td>2.068012</td>\n",
       "      <td>...</td>\n",
       "      <td>17.989850</td>\n",
       "      <td>-499.963035</td>\n",
       "      <td>16.063848</td>\n",
       "      <td>-399.925337</td>\n",
       "      <td>12.988779</td>\n",
       "      <td>-500.013626</td>\n",
       "      <td>10.031861</td>\n",
       "      <td>-500.176452</td>\n",
       "      <td>14.017699</td>\n",
       "      <td>-500.154125</td>\n",
       "    </tr>\n",
       "    <tr>\n",
       "      <td>4043</td>\n",
       "      <td>2016-08-03 04:59:59</td>\n",
       "      <td>4.654358</td>\n",
       "      <td>11.912130</td>\n",
       "      <td>7.103392</td>\n",
       "      <td>42.204185</td>\n",
       "      <td>57.728017</td>\n",
       "      <td>8.154362</td>\n",
       "      <td>2.540402</td>\n",
       "      <td>6.851434</td>\n",
       "      <td>3.527783</td>\n",
       "      <td>...</td>\n",
       "      <td>19.977343</td>\n",
       "      <td>-399.514374</td>\n",
       "      <td>9.943043</td>\n",
       "      <td>-401.099299</td>\n",
       "      <td>10.027919</td>\n",
       "      <td>-394.763793</td>\n",
       "      <td>4.997538</td>\n",
       "      <td>-399.976505</td>\n",
       "      <td>23.000198</td>\n",
       "      <td>-500.430253</td>\n",
       "    </tr>\n",
       "    <tr>\n",
       "      <td>15778</td>\n",
       "      <td>2018-02-19 10:59:59</td>\n",
       "      <td>6.443679</td>\n",
       "      <td>9.550411</td>\n",
       "      <td>9.264323</td>\n",
       "      <td>43.685748</td>\n",
       "      <td>83.816877</td>\n",
       "      <td>10.255740</td>\n",
       "      <td>0.779777</td>\n",
       "      <td>13.181426</td>\n",
       "      <td>1.522114</td>\n",
       "      <td>...</td>\n",
       "      <td>19.973306</td>\n",
       "      <td>-501.406031</td>\n",
       "      <td>14.957580</td>\n",
       "      <td>-499.983096</td>\n",
       "      <td>10.991668</td>\n",
       "      <td>-500.170351</td>\n",
       "      <td>8.994964</td>\n",
       "      <td>-500.081739</td>\n",
       "      <td>11.007796</td>\n",
       "      <td>-499.692950</td>\n",
       "    </tr>\n",
       "    <tr>\n",
       "      <td>7350</td>\n",
       "      <td>2017-01-03 00:59:59</td>\n",
       "      <td>5.855149</td>\n",
       "      <td>7.018573</td>\n",
       "      <td>14.109740</td>\n",
       "      <td>46.745762</td>\n",
       "      <td>69.458248</td>\n",
       "      <td>9.528642</td>\n",
       "      <td>1.528037</td>\n",
       "      <td>11.601081</td>\n",
       "      <td>2.461713</td>\n",
       "      <td>...</td>\n",
       "      <td>17.010152</td>\n",
       "      <td>-496.798730</td>\n",
       "      <td>15.005605</td>\n",
       "      <td>-465.364159</td>\n",
       "      <td>17.619010</td>\n",
       "      <td>-500.599774</td>\n",
       "      <td>7.998565</td>\n",
       "      <td>-500.172074</td>\n",
       "      <td>19.977036</td>\n",
       "      <td>-601.395925</td>\n",
       "    </tr>\n",
       "    <tr>\n",
       "      <td>9476</td>\n",
       "      <td>2017-04-15 05:59:59</td>\n",
       "      <td>5.543878</td>\n",
       "      <td>12.091716</td>\n",
       "      <td>9.911428</td>\n",
       "      <td>42.061957</td>\n",
       "      <td>70.543109</td>\n",
       "      <td>8.063335</td>\n",
       "      <td>2.927677</td>\n",
       "      <td>12.075297</td>\n",
       "      <td>2.532524</td>\n",
       "      <td>...</td>\n",
       "      <td>25.008840</td>\n",
       "      <td>-402.170084</td>\n",
       "      <td>23.049955</td>\n",
       "      <td>-399.869150</td>\n",
       "      <td>25.986872</td>\n",
       "      <td>-450.242251</td>\n",
       "      <td>23.996018</td>\n",
       "      <td>-449.772867</td>\n",
       "      <td>29.998381</td>\n",
       "      <td>-500.238671</td>\n",
       "    </tr>\n",
       "  </tbody>\n",
       "</table>\n",
       "<p>5 rows × 87 columns</p>\n",
       "</div>"
      ],
      "text/plain": [
       "                      date  final.output.concentrate_ag  \\\n",
       "13237  2017-10-11 17:59:59                     4.196164   \n",
       "4043   2016-08-03 04:59:59                     4.654358   \n",
       "15778  2018-02-19 10:59:59                     6.443679   \n",
       "7350   2017-01-03 00:59:59                     5.855149   \n",
       "9476   2017-04-15 05:59:59                     5.543878   \n",
       "\n",
       "       final.output.concentrate_pb  final.output.concentrate_sol  \\\n",
       "13237                    12.074998                      6.573477   \n",
       "4043                     11.912130                      7.103392   \n",
       "15778                     9.550411                      9.264323   \n",
       "7350                      7.018573                     14.109740   \n",
       "9476                     12.091716                      9.911428   \n",
       "\n",
       "       final.output.concentrate_au  final.output.recovery  \\\n",
       "13237                    44.921836              72.623453   \n",
       "4043                     42.204185              57.728017   \n",
       "15778                    43.685748              83.816877   \n",
       "7350                     46.745762              69.458248   \n",
       "9476                     42.061957              70.543109   \n",
       "\n",
       "       final.output.tail_ag  final.output.tail_pb  final.output.tail_sol  \\\n",
       "13237              6.055701              2.944820              11.881701   \n",
       "4043               8.154362              2.540402               6.851434   \n",
       "15778             10.255740              0.779777              13.181426   \n",
       "7350               9.528642              1.528037              11.601081   \n",
       "9476               8.063335              2.927677              12.075297   \n",
       "\n",
       "       final.output.tail_au  ...  secondary_cleaner.state.floatbank4_a_air  \\\n",
       "13237              2.068012  ...                                 17.989850   \n",
       "4043               3.527783  ...                                 19.977343   \n",
       "15778              1.522114  ...                                 19.973306   \n",
       "7350               2.461713  ...                                 17.010152   \n",
       "9476               2.532524  ...                                 25.008840   \n",
       "\n",
       "       secondary_cleaner.state.floatbank4_a_level  \\\n",
       "13237                                 -499.963035   \n",
       "4043                                  -399.514374   \n",
       "15778                                 -501.406031   \n",
       "7350                                  -496.798730   \n",
       "9476                                  -402.170084   \n",
       "\n",
       "       secondary_cleaner.state.floatbank4_b_air  \\\n",
       "13237                                 16.063848   \n",
       "4043                                   9.943043   \n",
       "15778                                 14.957580   \n",
       "7350                                  15.005605   \n",
       "9476                                  23.049955   \n",
       "\n",
       "       secondary_cleaner.state.floatbank4_b_level  \\\n",
       "13237                                 -399.925337   \n",
       "4043                                  -401.099299   \n",
       "15778                                 -499.983096   \n",
       "7350                                  -465.364159   \n",
       "9476                                  -399.869150   \n",
       "\n",
       "       secondary_cleaner.state.floatbank5_a_air  \\\n",
       "13237                                 12.988779   \n",
       "4043                                  10.027919   \n",
       "15778                                 10.991668   \n",
       "7350                                  17.619010   \n",
       "9476                                  25.986872   \n",
       "\n",
       "       secondary_cleaner.state.floatbank5_a_level  \\\n",
       "13237                                 -500.013626   \n",
       "4043                                  -394.763793   \n",
       "15778                                 -500.170351   \n",
       "7350                                  -500.599774   \n",
       "9476                                  -450.242251   \n",
       "\n",
       "       secondary_cleaner.state.floatbank5_b_air  \\\n",
       "13237                                 10.031861   \n",
       "4043                                   4.997538   \n",
       "15778                                  8.994964   \n",
       "7350                                   7.998565   \n",
       "9476                                  23.996018   \n",
       "\n",
       "       secondary_cleaner.state.floatbank5_b_level  \\\n",
       "13237                                 -500.176452   \n",
       "4043                                  -399.976505   \n",
       "15778                                 -500.081739   \n",
       "7350                                  -500.172074   \n",
       "9476                                  -449.772867   \n",
       "\n",
       "       secondary_cleaner.state.floatbank6_a_air  \\\n",
       "13237                                 14.017699   \n",
       "4043                                  23.000198   \n",
       "15778                                 11.007796   \n",
       "7350                                  19.977036   \n",
       "9476                                  29.998381   \n",
       "\n",
       "       secondary_cleaner.state.floatbank6_a_level  \n",
       "13237                                 -500.154125  \n",
       "4043                                  -500.430253  \n",
       "15778                                 -499.692950  \n",
       "7350                                  -601.395925  \n",
       "9476                                  -500.238671  \n",
       "\n",
       "[5 rows x 87 columns]"
      ]
     },
     "execution_count": 4,
     "metadata": {},
     "output_type": "execute_result"
    }
   ],
   "source": [
    "df_full.sample(5)"
   ]
  },
  {
   "cell_type": "code",
   "execution_count": 5,
   "metadata": {},
   "outputs": [
    {
     "name": "stdout",
     "output_type": "stream",
     "text": [
      "<class 'pandas.core.frame.DataFrame'>\n",
      "RangeIndex: 19439 entries, 0 to 19438\n",
      "Data columns (total 87 columns):\n",
      "date                                                  19439 non-null object\n",
      "final.output.concentrate_ag                           19438 non-null float64\n",
      "final.output.concentrate_pb                           19438 non-null float64\n",
      "final.output.concentrate_sol                          19228 non-null float64\n",
      "final.output.concentrate_au                           19439 non-null float64\n",
      "final.output.recovery                                 19439 non-null float64\n",
      "final.output.tail_ag                                  19438 non-null float64\n",
      "final.output.tail_pb                                  19338 non-null float64\n",
      "final.output.tail_sol                                 19433 non-null float64\n",
      "final.output.tail_au                                  19439 non-null float64\n",
      "primary_cleaner.input.sulfate                         19415 non-null float64\n",
      "primary_cleaner.input.depressant                      19402 non-null float64\n",
      "primary_cleaner.input.feed_size                       19439 non-null float64\n",
      "primary_cleaner.input.xanthate                        19335 non-null float64\n",
      "primary_cleaner.output.concentrate_ag                 19439 non-null float64\n",
      "primary_cleaner.output.concentrate_pb                 19323 non-null float64\n",
      "primary_cleaner.output.concentrate_sol                19069 non-null float64\n",
      "primary_cleaner.output.concentrate_au                 19439 non-null float64\n",
      "primary_cleaner.output.tail_ag                        19435 non-null float64\n",
      "primary_cleaner.output.tail_pb                        19418 non-null float64\n",
      "primary_cleaner.output.tail_sol                       19377 non-null float64\n",
      "primary_cleaner.output.tail_au                        19439 non-null float64\n",
      "primary_cleaner.state.floatbank8_a_air                19435 non-null float64\n",
      "primary_cleaner.state.floatbank8_a_level              19438 non-null float64\n",
      "primary_cleaner.state.floatbank8_b_air                19435 non-null float64\n",
      "primary_cleaner.state.floatbank8_b_level              19438 non-null float64\n",
      "primary_cleaner.state.floatbank8_c_air                19437 non-null float64\n",
      "primary_cleaner.state.floatbank8_c_level              19438 non-null float64\n",
      "primary_cleaner.state.floatbank8_d_air                19436 non-null float64\n",
      "primary_cleaner.state.floatbank8_d_level              19438 non-null float64\n",
      "rougher.calculation.sulfate_to_au_concentrate         19437 non-null float64\n",
      "rougher.calculation.floatbank10_sulfate_to_au_feed    19437 non-null float64\n",
      "rougher.calculation.floatbank11_sulfate_to_au_feed    19437 non-null float64\n",
      "rougher.calculation.au_pb_ratio                       19439 non-null float64\n",
      "rougher.input.feed_ag                                 19439 non-null float64\n",
      "rougher.input.feed_pb                                 19339 non-null float64\n",
      "rougher.input.feed_rate                               19428 non-null float64\n",
      "rougher.input.feed_size                               19294 non-null float64\n",
      "rougher.input.feed_sol                                19340 non-null float64\n",
      "rougher.input.feed_au                                 19439 non-null float64\n",
      "rougher.input.floatbank10_sulfate                     19405 non-null float64\n",
      "rougher.input.floatbank10_xanthate                    19431 non-null float64\n",
      "rougher.input.floatbank11_sulfate                     19395 non-null float64\n",
      "rougher.input.floatbank11_xanthate                    18986 non-null float64\n",
      "rougher.output.concentrate_ag                         19439 non-null float64\n",
      "rougher.output.concentrate_pb                         19439 non-null float64\n",
      "rougher.output.concentrate_sol                        19416 non-null float64\n",
      "rougher.output.concentrate_au                         19439 non-null float64\n",
      "rougher.output.recovery                               19439 non-null float64\n",
      "rougher.output.tail_ag                                19438 non-null float64\n",
      "rougher.output.tail_pb                                19439 non-null float64\n",
      "rougher.output.tail_sol                               19439 non-null float64\n",
      "rougher.output.tail_au                                19439 non-null float64\n",
      "rougher.state.floatbank10_a_air                       19438 non-null float64\n",
      "rougher.state.floatbank10_a_level                     19438 non-null float64\n",
      "rougher.state.floatbank10_b_air                       19438 non-null float64\n",
      "rougher.state.floatbank10_b_level                     19438 non-null float64\n",
      "rougher.state.floatbank10_c_air                       19438 non-null float64\n",
      "rougher.state.floatbank10_c_level                     19438 non-null float64\n",
      "rougher.state.floatbank10_d_air                       19439 non-null float64\n",
      "rougher.state.floatbank10_d_level                     19439 non-null float64\n",
      "rougher.state.floatbank10_e_air                       19003 non-null float64\n",
      "rougher.state.floatbank10_e_level                     19439 non-null float64\n",
      "rougher.state.floatbank10_f_air                       19439 non-null float64\n",
      "rougher.state.floatbank10_f_level                     19439 non-null float64\n",
      "secondary_cleaner.output.tail_ag                      19437 non-null float64\n",
      "secondary_cleaner.output.tail_pb                      19427 non-null float64\n",
      "secondary_cleaner.output.tail_sol                     17691 non-null float64\n",
      "secondary_cleaner.output.tail_au                      19439 non-null float64\n",
      "secondary_cleaner.state.floatbank2_a_air              19219 non-null float64\n",
      "secondary_cleaner.state.floatbank2_a_level            19438 non-null float64\n",
      "secondary_cleaner.state.floatbank2_b_air              19416 non-null float64\n",
      "secondary_cleaner.state.floatbank2_b_level            19438 non-null float64\n",
      "secondary_cleaner.state.floatbank3_a_air              19426 non-null float64\n",
      "secondary_cleaner.state.floatbank3_a_level            19438 non-null float64\n",
      "secondary_cleaner.state.floatbank3_b_air              19438 non-null float64\n",
      "secondary_cleaner.state.floatbank3_b_level            19438 non-null float64\n",
      "secondary_cleaner.state.floatbank4_a_air              19433 non-null float64\n",
      "secondary_cleaner.state.floatbank4_a_level            19438 non-null float64\n",
      "secondary_cleaner.state.floatbank4_b_air              19438 non-null float64\n",
      "secondary_cleaner.state.floatbank4_b_level            19438 non-null float64\n",
      "secondary_cleaner.state.floatbank5_a_air              19438 non-null float64\n",
      "secondary_cleaner.state.floatbank5_a_level            19438 non-null float64\n",
      "secondary_cleaner.state.floatbank5_b_air              19438 non-null float64\n",
      "secondary_cleaner.state.floatbank5_b_level            19438 non-null float64\n",
      "secondary_cleaner.state.floatbank6_a_air              19437 non-null float64\n",
      "secondary_cleaner.state.floatbank6_a_level            19438 non-null float64\n",
      "dtypes: float64(86), object(1)\n",
      "memory usage: 12.9+ MB\n"
     ]
    }
   ],
   "source": [
    "df_full.info()"
   ]
  },
  {
   "cell_type": "code",
   "execution_count": 6,
   "metadata": {},
   "outputs": [],
   "source": [
    "df_full['date'] = pd.to_datetime(df_full['date'])\n",
    "df_test['date'] = pd.to_datetime(df_test['date'])\n",
    "df_train['date'] = pd.to_datetime(df_train['date'])"
   ]
  },
  {
   "cell_type": "code",
   "execution_count": 7,
   "metadata": {},
   "outputs": [
    {
     "data": {
      "text/plain": [
       "<matplotlib.axes._subplots.AxesSubplot at 0x7f37d95857d0>"
      ]
     },
     "execution_count": 7,
     "metadata": {},
     "output_type": "execute_result"
    },
    {
     "data": {
      "image/png": "[encoded data removed]",
      "text/plain": [
       "<Figure size 1440x720 with 1 Axes>"
      ]
     },
     "metadata": {
      "needs_background": "light"
     },
     "output_type": "display_data"
    }
   ],
   "source": [
    "df_full['date'].hist(figsize = (20,10), bins = 50)"
   ]
  },
  {
   "cell_type": "code",
   "execution_count": 8,
   "metadata": {},
   "outputs": [
    {
     "data": {
      "text/plain": [
       "secondary_cleaner.output.tail_sol           8.992232\n",
       "rougher.input.floatbank11_xanthate          2.330367\n",
       "rougher.state.floatbank10_e_air             2.242914\n",
       "primary_cleaner.output.concentrate_sol      1.903390\n",
       "secondary_cleaner.state.floatbank2_a_air    1.131745\n",
       "final.output.concentrate_sol                1.085447\n",
       "rougher.input.feed_size                     0.745923\n",
       "primary_cleaner.output.concentrate_pb       0.596739\n",
       "primary_cleaner.input.xanthate              0.535007\n",
       "final.output.tail_pb                        0.519574\n",
       "rougher.input.feed_pb                       0.514430\n",
       "rougher.input.feed_sol                      0.509285\n",
       "primary_cleaner.output.tail_sol             0.318946\n",
       "rougher.input.floatbank11_sulfate           0.226349\n",
       "primary_cleaner.input.depressant            0.190339\n",
       "rougher.input.floatbank10_sulfate           0.174906\n",
       "primary_cleaner.input.sulfate               0.123463\n",
       "secondary_cleaner.state.floatbank2_b_air    0.118319\n",
       "rougher.output.concentrate_sol              0.118319\n",
       "primary_cleaner.output.tail_pb              0.108030\n",
       "dtype: float64"
      ]
     },
     "execution_count": 8,
     "metadata": {},
     "output_type": "execute_result"
    }
   ],
   "source": [
    "df_full.isna().sum().sort_values(ascending = False).head(20)*100/len(df_full)"
   ]
  },
  {
   "cell_type": "code",
   "execution_count": 9,
   "metadata": {},
   "outputs": [
    {
     "data": {
      "text/plain": [
       "82.79232470806112"
      ]
     },
     "execution_count": 9,
     "metadata": {},
     "output_type": "execute_result"
    }
   ],
   "source": [
    "100*df_full.dropna().shape[0]/df_full.shape[0]"
   ]
  },
  {
   "cell_type": "code",
   "execution_count": 10,
   "metadata": {},
   "outputs": [
    {
     "data": {
      "text/plain": [
       "Index(['date', 'final.output.concentrate_ag', 'final.output.concentrate_pb',\n",
       "       'final.output.concentrate_sol', 'final.output.concentrate_au',\n",
       "       'final.output.recovery', 'final.output.tail_ag', 'final.output.tail_pb',\n",
       "       'final.output.tail_sol', 'final.output.tail_au',\n",
       "       'primary_cleaner.input.sulfate', 'primary_cleaner.input.depressant',\n",
       "       'primary_cleaner.input.feed_size', 'primary_cleaner.input.xanthate',\n",
       "       'primary_cleaner.output.concentrate_ag',\n",
       "       'primary_cleaner.output.concentrate_pb',\n",
       "       'primary_cleaner.output.concentrate_sol',\n",
       "       'primary_cleaner.output.concentrate_au',\n",
       "       'primary_cleaner.output.tail_ag', 'primary_cleaner.output.tail_pb',\n",
       "       'primary_cleaner.output.tail_sol', 'primary_cleaner.output.tail_au',\n",
       "       'primary_cleaner.state.floatbank8_a_air',\n",
       "       'primary_cleaner.state.floatbank8_a_level',\n",
       "       'primary_cleaner.state.floatbank8_b_air',\n",
       "       'primary_cleaner.state.floatbank8_b_level',\n",
       "       'primary_cleaner.state.floatbank8_c_air',\n",
       "       'primary_cleaner.state.floatbank8_c_level',\n",
       "       'primary_cleaner.state.floatbank8_d_air',\n",
       "       'primary_cleaner.state.floatbank8_d_level',\n",
       "       'rougher.calculation.sulfate_to_au_concentrate',\n",
       "       'rougher.calculation.floatbank10_sulfate_to_au_feed',\n",
       "       'rougher.calculation.floatbank11_sulfate_to_au_feed',\n",
       "       'rougher.calculation.au_pb_ratio', 'rougher.input.feed_ag',\n",
       "       'rougher.input.feed_pb', 'rougher.input.feed_rate',\n",
       "       'rougher.input.feed_size', 'rougher.input.feed_sol',\n",
       "       'rougher.input.feed_au', 'rougher.input.floatbank10_sulfate',\n",
       "       'rougher.input.floatbank10_xanthate',\n",
       "       'rougher.input.floatbank11_sulfate',\n",
       "       'rougher.input.floatbank11_xanthate', 'rougher.output.concentrate_ag',\n",
       "       'rougher.output.concentrate_pb', 'rougher.output.concentrate_sol',\n",
       "       'rougher.output.concentrate_au', 'rougher.output.recovery',\n",
       "       'rougher.output.tail_ag', 'rougher.output.tail_pb',\n",
       "       'rougher.output.tail_sol', 'rougher.output.tail_au',\n",
       "       'rougher.state.floatbank10_a_air', 'rougher.state.floatbank10_a_level',\n",
       "       'rougher.state.floatbank10_b_air', 'rougher.state.floatbank10_b_level',\n",
       "       'rougher.state.floatbank10_c_air', 'rougher.state.floatbank10_c_level',\n",
       "       'rougher.state.floatbank10_d_air', 'rougher.state.floatbank10_d_level',\n",
       "       'rougher.state.floatbank10_e_air', 'rougher.state.floatbank10_e_level',\n",
       "       'rougher.state.floatbank10_f_air', 'rougher.state.floatbank10_f_level',\n",
       "       'secondary_cleaner.output.tail_ag', 'secondary_cleaner.output.tail_pb',\n",
       "       'secondary_cleaner.output.tail_sol', 'secondary_cleaner.output.tail_au',\n",
       "       'secondary_cleaner.state.floatbank2_a_air',\n",
       "       'secondary_cleaner.state.floatbank2_a_level',\n",
       "       'secondary_cleaner.state.floatbank2_b_air',\n",
       "       'secondary_cleaner.state.floatbank2_b_level',\n",
       "       'secondary_cleaner.state.floatbank3_a_air',\n",
       "       'secondary_cleaner.state.floatbank3_a_level',\n",
       "       'secondary_cleaner.state.floatbank3_b_air',\n",
       "       'secondary_cleaner.state.floatbank3_b_level',\n",
       "       'secondary_cleaner.state.floatbank4_a_air',\n",
       "       'secondary_cleaner.state.floatbank4_a_level',\n",
       "       'secondary_cleaner.state.floatbank4_b_air',\n",
       "       'secondary_cleaner.state.floatbank4_b_level',\n",
       "       'secondary_cleaner.state.floatbank5_a_air',\n",
       "       'secondary_cleaner.state.floatbank5_a_level',\n",
       "       'secondary_cleaner.state.floatbank5_b_air',\n",
       "       'secondary_cleaner.state.floatbank5_b_level',\n",
       "       'secondary_cleaner.state.floatbank6_a_air',\n",
       "       'secondary_cleaner.state.floatbank6_a_level'],\n",
       "      dtype='object')"
      ]
     },
     "execution_count": 10,
     "metadata": {},
     "output_type": "execute_result"
    }
   ],
   "source": [
    "df_full.columns"
   ]
  },
  {
   "cell_type": "markdown",
   "metadata": {},
   "source": [
    "В данных можно выделить несколько блоков: \n",
    "- дата записи;\n",
    "- данные по флотации;\n",
    "- данные по первичной очистке;\n",
    "- данные по вторичной очистке;\n",
    "- данные по фильнальной очистке.\n",
    "В каждом из перечисленных блоков можно выделить следующие данные:\n",
    "- input — параметры сырья\n",
    "- output — параметры продукта\n",
    "- state — параметры, характеризующие текущее состояние этапа\n",
    "- calculation — расчётные характеристики.\n",
    "Кроме данных по основному продукту - золоту, также приводятся данные до серебру и свинцу. Но из представленных данных непонятно, происходит ли получение других продуктов кроме золота. \n",
    "В данных содержится достаточно много пропусков: если удалить все пропуски, то мы потеряем около 17 % данных. С учетом что выборка достаточно большая, возможно, удаление строк с пропусками рациональный путь решения задачи"
   ]
  },
  {
   "cell_type": "markdown",
   "metadata": {},
   "source": [
    "### Расчет MAE между расчётами и значением признака от заказчика"
   ]
  },
  {
   "cell_type": "code",
   "execution_count": 11,
   "metadata": {},
   "outputs": [],
   "source": [
    "def eff_rec(row):\n",
    "    '''\n",
    "    Функция для расчета эффективности обогащения\n",
    "    На вход функция получает всю строку, но использует только следующие данные: \n",
    "    C — доля золота в концентрате после флотации/очистки;\n",
    "    F — доля золота в сырье/концентрате до флотации/очистки;\n",
    "    T — доля золота в отвальных хвостах после флотации/очистки.\n",
    "    На выходе функция расчитывает  эффективности обогащения руды в процентах\n",
    "    '''\n",
    "    F = row['rougher.input.feed_au']\n",
    "    C =  row['rougher.output.concentrate_au']\n",
    "    T = row['rougher.output.tail_au']\n",
    "    return 100*(C*(F-T))/(F*(C-T))"
   ]
  },
  {
   "attachments": {
    "image.png": {
     "image/png": "[encoded data removed]"
    }
   },
   "cell_type": "markdown",
   "metadata": {},
   "source": [
    "![image.png](attachment:image.png)"
   ]
  },
  {
   "cell_type": "code",
   "execution_count": 12,
   "metadata": {},
   "outputs": [],
   "source": [
    "df_train['rougher.output.recovery.exam'] = df_train.apply(eff_rec, axis = 1)"
   ]
  },
  {
   "cell_type": "code",
   "execution_count": 13,
   "metadata": {},
   "outputs": [
    {
     "name": "stdout",
     "output_type": "stream",
     "text": [
      "Значение MAE между расчётами и значением признака от заказчика, в процентах: 1.1100347049376097e-14\n"
     ]
    }
   ],
   "source": [
    "rez = mean_absolute_error(df_train['rougher.output.recovery.exam'], df_train['rougher.output.recovery'])\n",
    "print('Значение MAE между расчётами и значением признака от заказчика, в процентах:', rez)"
   ]
  },
  {
   "cell_type": "markdown",
   "metadata": {},
   "source": [
    "Результаты расчета эффективности обогащения и данных приведенных в таблице от заказчика совпадают с высокой долей точности. Разницей для реальных инженерных расчетов можно пренебречь. "
   ]
  },
  {
   "cell_type": "markdown",
   "metadata": {},
   "source": [
    "### Анализ признаков, недоступные в тестовой выборке"
   ]
  },
  {
   "cell_type": "code",
   "execution_count": 14,
   "metadata": {},
   "outputs": [
    {
     "name": "stdout",
     "output_type": "stream",
     "text": [
      "['final.output.concentrate_ag', 'final.output.concentrate_au', 'final.output.concentrate_pb', 'final.output.concentrate_sol', 'final.output.recovery', 'final.output.tail_ag', 'final.output.tail_au', 'final.output.tail_pb', 'final.output.tail_sol', 'primary_cleaner.output.concentrate_ag', 'primary_cleaner.output.concentrate_au', 'primary_cleaner.output.concentrate_pb', 'primary_cleaner.output.concentrate_sol', 'primary_cleaner.output.tail_ag', 'primary_cleaner.output.tail_au', 'primary_cleaner.output.tail_pb', 'primary_cleaner.output.tail_sol', 'rougher.calculation.au_pb_ratio', 'rougher.calculation.floatbank10_sulfate_to_au_feed', 'rougher.calculation.floatbank11_sulfate_to_au_feed', 'rougher.calculation.sulfate_to_au_concentrate', 'rougher.output.concentrate_ag', 'rougher.output.concentrate_au', 'rougher.output.concentrate_pb', 'rougher.output.concentrate_sol', 'rougher.output.recovery', 'rougher.output.tail_ag', 'rougher.output.tail_au', 'rougher.output.tail_pb', 'rougher.output.tail_sol', 'secondary_cleaner.output.tail_ag', 'secondary_cleaner.output.tail_au', 'secondary_cleaner.output.tail_pb', 'secondary_cleaner.output.tail_sol']\n"
     ]
    }
   ],
   "source": [
    "lst_rez = list(set(df_full.columns)-set(df_test.columns))\n",
    "lst_rez = sorted(lst_rez)\n",
    "print(lst_rez)"
   ]
  },
  {
   "cell_type": "code",
   "execution_count": 15,
   "metadata": {},
   "outputs": [
    {
     "data": {
      "text/plain": [
       "{'final.output.concentrate_ag',\n",
       " 'final.output.concentrate_au',\n",
       " 'final.output.concentrate_pb',\n",
       " 'final.output.concentrate_sol',\n",
       " 'final.output.recovery',\n",
       " 'final.output.tail_ag',\n",
       " 'final.output.tail_au',\n",
       " 'final.output.tail_pb',\n",
       " 'final.output.tail_sol',\n",
       " 'primary_cleaner.output.concentrate_ag',\n",
       " 'primary_cleaner.output.concentrate_au',\n",
       " 'primary_cleaner.output.concentrate_pb',\n",
       " 'primary_cleaner.output.concentrate_sol',\n",
       " 'primary_cleaner.output.tail_ag',\n",
       " 'primary_cleaner.output.tail_au',\n",
       " 'primary_cleaner.output.tail_pb',\n",
       " 'primary_cleaner.output.tail_sol',\n",
       " 'rougher.calculation.au_pb_ratio',\n",
       " 'rougher.calculation.floatbank10_sulfate_to_au_feed',\n",
       " 'rougher.calculation.floatbank11_sulfate_to_au_feed',\n",
       " 'rougher.calculation.sulfate_to_au_concentrate',\n",
       " 'rougher.output.concentrate_ag',\n",
       " 'rougher.output.concentrate_au',\n",
       " 'rougher.output.concentrate_pb',\n",
       " 'rougher.output.concentrate_sol',\n",
       " 'rougher.output.recovery',\n",
       " 'rougher.output.recovery.exam',\n",
       " 'rougher.output.tail_ag',\n",
       " 'rougher.output.tail_au',\n",
       " 'rougher.output.tail_pb',\n",
       " 'rougher.output.tail_sol',\n",
       " 'secondary_cleaner.output.tail_ag',\n",
       " 'secondary_cleaner.output.tail_au',\n",
       " 'secondary_cleaner.output.tail_pb',\n",
       " 'secondary_cleaner.output.tail_sol'}"
      ]
     },
     "execution_count": 15,
     "metadata": {},
     "output_type": "execute_result"
    }
   ],
   "source": [
    "set(df_train.columns)-set(df_test.columns)"
   ]
  },
  {
   "cell_type": "code",
   "execution_count": 16,
   "metadata": {},
   "outputs": [
    {
     "data": {
      "text/plain": [
       "set()"
      ]
     },
     "execution_count": 16,
     "metadata": {},
     "output_type": "execute_result"
    }
   ],
   "source": [
    "(set(df_full.columns)-set(df_test.columns))-(set(df_train.columns)-set(df_test.columns))"
   ]
  },
  {
   "cell_type": "code",
   "execution_count": 17,
   "metadata": {},
   "outputs": [
    {
     "data": {
      "text/plain": [
       "set()"
      ]
     },
     "execution_count": 17,
     "metadata": {},
     "output_type": "execute_result"
    }
   ],
   "source": [
    "set(df_full.columns)-set(df_train.columns)"
   ]
  },
  {
   "cell_type": "code",
   "execution_count": 18,
   "metadata": {},
   "outputs": [
    {
     "name": "stdout",
     "output_type": "stream",
     "text": [
      "Объем исходной выборки:                                         (19439, 87)\n",
      "Объем обучающей выборки(добавили столбец с проверкой расчетов): (14149, 88)\n",
      "Объем тестовой выборки:                                         (5290, 53)\n",
      "Объем тестовой и обучающей выборки:                             19439\n",
      "Отношение тестовой выборки к полному объему выборок:            27.2 %\n"
     ]
    }
   ],
   "source": [
    "print('Объем исходной выборки:                                        ',df_full.shape)\n",
    "print('Объем обучающей выборки(добавили столбец с проверкой расчетов):',df_train.shape)\n",
    "print('Объем тестовой выборки:                                        ',df_test.shape)\n",
    "print('Объем тестовой и обучающей выборки:                            ', df_test.shape[0] + df_train.shape[0] )\n",
    "print('Отношение тестовой выборки к полному объему выборок:           ', round(100*df_test.shape[0]/(df_train.shape[0]+df_test.shape[0]),1), '%')"
   ]
  },
  {
   "cell_type": "markdown",
   "metadata": {},
   "source": [
    "Первичный анализ данных:\n",
    "- в исходных данных и обучаеющей выборке есть одни и теже колонки;\n",
    "- в тестовой выборке и в обучающей выборке, а также в тестовой и исходной выборке не хватает одних и тех же колонок;\n",
    "- недостающие колонки это C — доля золота в концентрате после флотации/очистки;T — доля золота в отвальных хвостах после флотации/очистки - данные для расчета метрик эффективности технологических этапов , а также  'final.output.recovery' (эффективность обогащения финального концентрата) и 'rougher.output.recovery' (эффективность обогащения чернового концентрата) - целевые показатели машинного обучения;\n",
    "- данные были разбиты заказчиком на тестовую и обучающую выборки в соотношении примерно 1 к 4, количество строк в тестовой + обучаеющей выборке совпадает с количеством строк в исходной выборке. \n"
   ]
  },
  {
   "cell_type": "code",
   "execution_count": 19,
   "metadata": {},
   "outputs": [],
   "source": [
    "lst_prm = ['primary_cleaner.input.sulfate', 'primary_cleaner.input.depressant',\n",
    "       'primary_cleaner.input.feed_size', 'primary_cleaner.input.xanthate',\n",
    "       'primary_cleaner.output.concentrate_ag',\n",
    "       'primary_cleaner.output.concentrate_pb',\n",
    "       'primary_cleaner.output.concentrate_sol',\n",
    "       'primary_cleaner.output.concentrate_au',\n",
    "       'primary_cleaner.output.tail_ag', 'primary_cleaner.output.tail_pb',\n",
    "       'primary_cleaner.output.tail_sol', 'primary_cleaner.output.tail_au',\n",
    "       'primary_cleaner.state.floatbank8_a_air',\n",
    "       'primary_cleaner.state.floatbank8_a_level',\n",
    "       'primary_cleaner.state.floatbank8_b_air',\n",
    "       'primary_cleaner.state.floatbank8_b_level',\n",
    "       'primary_cleaner.state.floatbank8_c_air',\n",
    "       'primary_cleaner.state.floatbank8_c_level',\n",
    "       'primary_cleaner.state.floatbank8_d_air',\n",
    "       'primary_cleaner.state.floatbank8_d_level']"
   ]
  },
  {
   "cell_type": "code",
   "execution_count": 20,
   "metadata": {},
   "outputs": [],
   "source": [
    "lst_rgh1 = ['rougher.calculation.sulfate_to_au_concentrate',\n",
    "       'rougher.calculation.floatbank10_sulfate_to_au_feed',\n",
    "       'rougher.calculation.floatbank11_sulfate_to_au_feed',\n",
    "       'rougher.calculation.au_pb_ratio', 'rougher.input.feed_ag',\n",
    "       'rougher.input.feed_pb', 'rougher.input.feed_rate',\n",
    "       'rougher.input.feed_size', 'rougher.input.feed_sol',\n",
    "       'rougher.input.feed_au', 'rougher.input.floatbank10_sulfate',\n",
    "       'rougher.input.floatbank10_xanthate',\n",
    "       'rougher.input.floatbank11_sulfate',\n",
    "       'rougher.input.floatbank11_xanthate', 'rougher.output.concentrate_ag',\n",
    "       'rougher.output.concentrate_pb', 'rougher.output.concentrate_sol',\n",
    "       'rougher.output.concentrate_au', 'rougher.output.recovery',\n",
    "       'rougher.output.tail_ag', 'rougher.output.tail_pb',\n",
    "       'rougher.output.tail_sol', 'rougher.output.tail_au']\n",
    "lst_rgh2 = ['rougher.state.floatbank10_a_air', 'rougher.state.floatbank10_a_level',\n",
    "       'rougher.state.floatbank10_b_air', 'rougher.state.floatbank10_b_level',\n",
    "       'rougher.state.floatbank10_c_air', 'rougher.state.floatbank10_c_level',\n",
    "       'rougher.state.floatbank10_d_air', 'rougher.state.floatbank10_d_level',\n",
    "       'rougher.state.floatbank10_e_air', 'rougher.state.floatbank10_e_level']"
   ]
  },
  {
   "cell_type": "code",
   "execution_count": 21,
   "metadata": {},
   "outputs": [
    {
     "data": {
      "text/plain": [
       "['final.output.concentrate_ag',\n",
       " 'final.output.concentrate_au',\n",
       " 'final.output.concentrate_pb',\n",
       " 'final.output.concentrate_sol',\n",
       " 'final.output.recovery',\n",
       " 'final.output.tail_ag',\n",
       " 'final.output.tail_au',\n",
       " 'final.output.tail_pb',\n",
       " 'final.output.tail_sol',\n",
       " 'primary_cleaner.output.concentrate_ag',\n",
       " 'primary_cleaner.output.concentrate_au',\n",
       " 'primary_cleaner.output.concentrate_pb',\n",
       " 'primary_cleaner.output.concentrate_sol',\n",
       " 'primary_cleaner.output.tail_ag',\n",
       " 'primary_cleaner.output.tail_au',\n",
       " 'primary_cleaner.output.tail_pb',\n",
       " 'primary_cleaner.output.tail_sol',\n",
       " 'rougher.calculation.au_pb_ratio',\n",
       " 'rougher.calculation.floatbank10_sulfate_to_au_feed',\n",
       " 'rougher.calculation.floatbank11_sulfate_to_au_feed',\n",
       " 'rougher.calculation.sulfate_to_au_concentrate',\n",
       " 'rougher.output.concentrate_ag',\n",
       " 'rougher.output.concentrate_au',\n",
       " 'rougher.output.concentrate_pb',\n",
       " 'rougher.output.concentrate_sol',\n",
       " 'rougher.output.recovery',\n",
       " 'rougher.output.tail_ag',\n",
       " 'rougher.output.tail_au',\n",
       " 'rougher.output.tail_pb',\n",
       " 'rougher.output.tail_sol',\n",
       " 'secondary_cleaner.output.tail_ag',\n",
       " 'secondary_cleaner.output.tail_au',\n",
       " 'secondary_cleaner.output.tail_pb',\n",
       " 'secondary_cleaner.output.tail_sol']"
      ]
     },
     "execution_count": 21,
     "metadata": {},
     "output_type": "execute_result"
    }
   ],
   "source": [
    "lst_rez"
   ]
  },
  {
   "cell_type": "code",
   "execution_count": 22,
   "metadata": {},
   "outputs": [
    {
     "data": {
      "text/plain": [
       "array([[<matplotlib.axes._subplots.AxesSubplot object at 0x7f37d9691a50>,\n",
       "        <matplotlib.axes._subplots.AxesSubplot object at 0x7f37d96b1d50>,\n",
       "        <matplotlib.axes._subplots.AxesSubplot object at 0x7f37ce04d550>],\n",
       "       [<matplotlib.axes._subplots.AxesSubplot object at 0x7f37d9777d10>,\n",
       "        <matplotlib.axes._subplots.AxesSubplot object at 0x7f37d9737550>,\n",
       "        <matplotlib.axes._subplots.AxesSubplot object at 0x7f37cde0ad50>],\n",
       "       [<matplotlib.axes._subplots.AxesSubplot object at 0x7f37d97f0590>,\n",
       "        <matplotlib.axes._subplots.AxesSubplot object at 0x7f37d8f01d90>,\n",
       "        <matplotlib.axes._subplots.AxesSubplot object at 0x7f37d8f0b910>]],\n",
       "      dtype=object)"
      ]
     },
     "execution_count": 22,
     "metadata": {},
     "output_type": "execute_result"
    },
    {
     "data": {
      "image/png": "[encoded data removed]",
      "text/plain": [
       "<Figure size 1080x1080 with 9 Axes>"
      ]
     },
     "metadata": {
      "needs_background": "light"
     },
     "output_type": "display_data"
    }
   ],
   "source": [
    "df_full[lst_rez[:9]].hist(bins=30, figsize=(15,15))"
   ]
  },
  {
   "cell_type": "code",
   "execution_count": 23,
   "metadata": {},
   "outputs": [
    {
     "data": {
      "text/plain": [
       "array([[<matplotlib.axes._subplots.AxesSubplot object at 0x7f37d8e24b50>,\n",
       "        <matplotlib.axes._subplots.AxesSubplot object at 0x7f37d8c80d90>,\n",
       "        <matplotlib.axes._subplots.AxesSubplot object at 0x7f37d8928d10>,\n",
       "        <matplotlib.axes._subplots.AxesSubplot object at 0x7f37d8949590>],\n",
       "       [<matplotlib.axes._subplots.AxesSubplot object at 0x7f37d8902890>,\n",
       "        <matplotlib.axes._subplots.AxesSubplot object at 0x7f37d88b7b90>,\n",
       "        <matplotlib.axes._subplots.AxesSubplot object at 0x7f37d8877d90>,\n",
       "        <matplotlib.axes._subplots.AxesSubplot object at 0x7f37d8830950>],\n",
       "       [<matplotlib.axes._subplots.AxesSubplot object at 0x7f37d88394d0>,\n",
       "        <matplotlib.axes._subplots.AxesSubplot object at 0x7f37d87eee50>,\n",
       "        <matplotlib.axes._subplots.AxesSubplot object at 0x7f37d8764d10>,\n",
       "        <matplotlib.axes._subplots.AxesSubplot object at 0x7f37d879b9d0>],\n",
       "       [<matplotlib.axes._subplots.AxesSubplot object at 0x7f37d8757d50>,\n",
       "        <matplotlib.axes._subplots.AxesSubplot object at 0x7f37d8710a10>,\n",
       "        <matplotlib.axes._subplots.AxesSubplot object at 0x7f37d86ced90>,\n",
       "        <matplotlib.axes._subplots.AxesSubplot object at 0x7f37d8683a50>]],\n",
       "      dtype=object)"
      ]
     },
     "execution_count": 23,
     "metadata": {},
     "output_type": "execute_result"
    },
    {
     "data": {
      "image/png": "[encoded data removed]",
      "text/plain": [
       "<Figure size 1080x1080 with 16 Axes>"
      ]
     },
     "metadata": {
      "needs_background": "light"
     },
     "output_type": "display_data"
    }
   ],
   "source": [
    "df_full[lst_rez[17:30]].hist(bins=30, figsize=(15,15))"
   ]
  },
  {
   "cell_type": "code",
   "execution_count": 24,
   "metadata": {},
   "outputs": [
    {
     "data": {
      "text/plain": [
       "<matplotlib.axes._subplots.AxesSubplot at 0x7f37d7fc83d0>"
      ]
     },
     "execution_count": 24,
     "metadata": {},
     "output_type": "execute_result"
    },
    {
     "data": {
      "image/png": "[encoded data removed]",
      "text/plain": [
       "<Figure size 432x288 with 1 Axes>"
      ]
     },
     "metadata": {
      "needs_background": "light"
     },
     "output_type": "display_data"
    }
   ],
   "source": [
    "df_full['final.output.recovery'].hist(bins= 50)"
   ]
  },
  {
   "cell_type": "code",
   "execution_count": 25,
   "metadata": {},
   "outputs": [
    {
     "data": {
      "text/plain": [
       "<matplotlib.axes._subplots.AxesSubplot at 0x7f37d7e596d0>"
      ]
     },
     "execution_count": 25,
     "metadata": {},
     "output_type": "execute_result"
    },
    {
     "data": {
      "image/png": "[encoded data removed]",
      "text/plain": [
       "<Figure size 432x288 with 1 Axes>"
      ]
     },
     "metadata": {
      "needs_background": "light"
     },
     "output_type": "display_data"
    }
   ],
   "source": [
    "df_full['rougher.output.recovery'].hist(bins= 50)"
   ]
  },
  {
   "cell_type": "code",
   "execution_count": 26,
   "metadata": {},
   "outputs": [
    {
     "data": {
      "text/plain": [
       "<matplotlib.axes._subplots.AxesSubplot at 0x7f37d7d63710>"
      ]
     },
     "execution_count": 26,
     "metadata": {},
     "output_type": "execute_result"
    },
    {
     "data": {
      "image/png": "[encoded data removed]",
      "text/plain": [
       "<Figure size 432x288 with 1 Axes>"
      ]
     },
     "metadata": {
      "needs_background": "light"
     },
     "output_type": "display_data"
    }
   ],
   "source": [
    "df_full['rougher.output.concentrate_au'].hist(bins= 50,range=(0,55))"
   ]
  },
  {
   "cell_type": "code",
   "execution_count": 27,
   "metadata": {},
   "outputs": [
    {
     "data": {
      "text/plain": [
       "<matplotlib.axes._subplots.AxesSubplot at 0x7f37d7cc6850>"
      ]
     },
     "execution_count": 27,
     "metadata": {},
     "output_type": "execute_result"
    },
    {
     "data": {
      "image/png": "[encoded data removed]",
      "text/plain": [
       "<Figure size 432x288 with 1 Axes>"
      ]
     },
     "metadata": {
      "needs_background": "light"
     },
     "output_type": "display_data"
    }
   ],
   "source": [
    "df_full['final.output.concentrate_au'].hist(bins= 50)"
   ]
  },
  {
   "cell_type": "markdown",
   "metadata": {},
   "source": [
    "Оценка корреляции параметров "
   ]
  },
  {
   "cell_type": "code",
   "execution_count": 28,
   "metadata": {},
   "outputs": [
    {
     "data": {
      "text/html": [
       "<div>\n",
       "<style scoped>\n",
       "    .dataframe tbody tr th:only-of-type {\n",
       "        vertical-align: middle;\n",
       "    }\n",
       "\n",
       "    .dataframe tbody tr th {\n",
       "        vertical-align: top;\n",
       "    }\n",
       "\n",
       "    .dataframe thead th {\n",
       "        text-align: right;\n",
       "    }\n",
       "</style>\n",
       "<table border=\"1\" class=\"dataframe\">\n",
       "  <thead>\n",
       "    <tr style=\"text-align: right;\">\n",
       "      <th></th>\n",
       "      <th>final.output.concentrate_ag</th>\n",
       "      <th>final.output.concentrate_pb</th>\n",
       "      <th>final.output.concentrate_sol</th>\n",
       "      <th>final.output.concentrate_au</th>\n",
       "      <th>final.output.recovery</th>\n",
       "      <th>final.output.tail_ag</th>\n",
       "      <th>final.output.tail_pb</th>\n",
       "      <th>final.output.tail_sol</th>\n",
       "      <th>final.output.tail_au</th>\n",
       "      <th>primary_cleaner.input.sulfate</th>\n",
       "      <th>...</th>\n",
       "      <th>secondary_cleaner.state.floatbank4_a_air</th>\n",
       "      <th>secondary_cleaner.state.floatbank4_a_level</th>\n",
       "      <th>secondary_cleaner.state.floatbank4_b_air</th>\n",
       "      <th>secondary_cleaner.state.floatbank4_b_level</th>\n",
       "      <th>secondary_cleaner.state.floatbank5_a_air</th>\n",
       "      <th>secondary_cleaner.state.floatbank5_a_level</th>\n",
       "      <th>secondary_cleaner.state.floatbank5_b_air</th>\n",
       "      <th>secondary_cleaner.state.floatbank5_b_level</th>\n",
       "      <th>secondary_cleaner.state.floatbank6_a_air</th>\n",
       "      <th>secondary_cleaner.state.floatbank6_a_level</th>\n",
       "    </tr>\n",
       "  </thead>\n",
       "  <tbody>\n",
       "    <tr>\n",
       "      <td>final.output.recovery</td>\n",
       "      <td>0.185952</td>\n",
       "      <td>0.151987</td>\n",
       "      <td>0.265993</td>\n",
       "      <td>0.288568</td>\n",
       "      <td>1.000000</td>\n",
       "      <td>0.125986</td>\n",
       "      <td>-0.143094</td>\n",
       "      <td>-0.05028</td>\n",
       "      <td>-0.409200</td>\n",
       "      <td>0.366954</td>\n",
       "      <td>...</td>\n",
       "      <td>0.167059</td>\n",
       "      <td>0.031317</td>\n",
       "      <td>0.158557</td>\n",
       "      <td>-0.049973</td>\n",
       "      <td>0.067014</td>\n",
       "      <td>0.011871</td>\n",
       "      <td>0.052017</td>\n",
       "      <td>0.016480</td>\n",
       "      <td>-0.025192</td>\n",
       "      <td>-0.005305</td>\n",
       "    </tr>\n",
       "    <tr>\n",
       "      <td>rougher.output.recovery</td>\n",
       "      <td>0.084148</td>\n",
       "      <td>0.039732</td>\n",
       "      <td>0.138046</td>\n",
       "      <td>0.077312</td>\n",
       "      <td>0.327059</td>\n",
       "      <td>0.187328</td>\n",
       "      <td>0.072424</td>\n",
       "      <td>-0.04084</td>\n",
       "      <td>-0.104604</td>\n",
       "      <td>0.279260</td>\n",
       "      <td>...</td>\n",
       "      <td>0.212177</td>\n",
       "      <td>0.022431</td>\n",
       "      <td>0.227642</td>\n",
       "      <td>-0.035304</td>\n",
       "      <td>0.144985</td>\n",
       "      <td>0.013803</td>\n",
       "      <td>0.144236</td>\n",
       "      <td>0.035153</td>\n",
       "      <td>0.008058</td>\n",
       "      <td>-0.012089</td>\n",
       "    </tr>\n",
       "  </tbody>\n",
       "</table>\n",
       "<p>2 rows × 86 columns</p>\n",
       "</div>"
      ],
      "text/plain": [
       "                         final.output.concentrate_ag  \\\n",
       "final.output.recovery                       0.185952   \n",
       "rougher.output.recovery                     0.084148   \n",
       "\n",
       "                         final.output.concentrate_pb  \\\n",
       "final.output.recovery                       0.151987   \n",
       "rougher.output.recovery                     0.039732   \n",
       "\n",
       "                         final.output.concentrate_sol  \\\n",
       "final.output.recovery                        0.265993   \n",
       "rougher.output.recovery                      0.138046   \n",
       "\n",
       "                         final.output.concentrate_au  final.output.recovery  \\\n",
       "final.output.recovery                       0.288568               1.000000   \n",
       "rougher.output.recovery                     0.077312               0.327059   \n",
       "\n",
       "                         final.output.tail_ag  final.output.tail_pb  \\\n",
       "final.output.recovery                0.125986             -0.143094   \n",
       "rougher.output.recovery              0.187328              0.072424   \n",
       "\n",
       "                         final.output.tail_sol  final.output.tail_au  \\\n",
       "final.output.recovery                 -0.05028             -0.409200   \n",
       "rougher.output.recovery               -0.04084             -0.104604   \n",
       "\n",
       "                         primary_cleaner.input.sulfate  ...  \\\n",
       "final.output.recovery                         0.366954  ...   \n",
       "rougher.output.recovery                       0.279260  ...   \n",
       "\n",
       "                         secondary_cleaner.state.floatbank4_a_air  \\\n",
       "final.output.recovery                                    0.167059   \n",
       "rougher.output.recovery                                  0.212177   \n",
       "\n",
       "                         secondary_cleaner.state.floatbank4_a_level  \\\n",
       "final.output.recovery                                      0.031317   \n",
       "rougher.output.recovery                                    0.022431   \n",
       "\n",
       "                         secondary_cleaner.state.floatbank4_b_air  \\\n",
       "final.output.recovery                                    0.158557   \n",
       "rougher.output.recovery                                  0.227642   \n",
       "\n",
       "                         secondary_cleaner.state.floatbank4_b_level  \\\n",
       "final.output.recovery                                     -0.049973   \n",
       "rougher.output.recovery                                   -0.035304   \n",
       "\n",
       "                         secondary_cleaner.state.floatbank5_a_air  \\\n",
       "final.output.recovery                                    0.067014   \n",
       "rougher.output.recovery                                  0.144985   \n",
       "\n",
       "                         secondary_cleaner.state.floatbank5_a_level  \\\n",
       "final.output.recovery                                      0.011871   \n",
       "rougher.output.recovery                                    0.013803   \n",
       "\n",
       "                         secondary_cleaner.state.floatbank5_b_air  \\\n",
       "final.output.recovery                                    0.052017   \n",
       "rougher.output.recovery                                  0.144236   \n",
       "\n",
       "                         secondary_cleaner.state.floatbank5_b_level  \\\n",
       "final.output.recovery                                      0.016480   \n",
       "rougher.output.recovery                                    0.035153   \n",
       "\n",
       "                         secondary_cleaner.state.floatbank6_a_air  \\\n",
       "final.output.recovery                                   -0.025192   \n",
       "rougher.output.recovery                                  0.008058   \n",
       "\n",
       "                         secondary_cleaner.state.floatbank6_a_level  \n",
       "final.output.recovery                                     -0.005305  \n",
       "rougher.output.recovery                                   -0.012089  \n",
       "\n",
       "[2 rows x 86 columns]"
      ]
     },
     "execution_count": 28,
     "metadata": {},
     "output_type": "execute_result"
    }
   ],
   "source": [
    "df_full.corr().iloc[[4, 47]]"
   ]
  },
  {
   "cell_type": "code",
   "execution_count": 29,
   "metadata": {},
   "outputs": [
    {
     "data": {
      "text/html": [
       "<div>\n",
       "<style scoped>\n",
       "    .dataframe tbody tr th:only-of-type {\n",
       "        vertical-align: middle;\n",
       "    }\n",
       "\n",
       "    .dataframe tbody tr th {\n",
       "        vertical-align: top;\n",
       "    }\n",
       "\n",
       "    .dataframe thead th {\n",
       "        text-align: right;\n",
       "    }\n",
       "</style>\n",
       "<table border=\"1\" class=\"dataframe\">\n",
       "  <thead>\n",
       "    <tr style=\"text-align: right;\">\n",
       "      <th></th>\n",
       "      <th>final.output.recovery</th>\n",
       "    </tr>\n",
       "  </thead>\n",
       "  <tbody>\n",
       "    <tr>\n",
       "      <td>final.output.recovery</td>\n",
       "      <td>1.0</td>\n",
       "    </tr>\n",
       "  </tbody>\n",
       "</table>\n",
       "</div>"
      ],
      "text/plain": [
       "                       final.output.recovery\n",
       "final.output.recovery                    1.0"
      ]
     },
     "execution_count": 29,
     "metadata": {},
     "output_type": "execute_result"
    }
   ],
   "source": [
    "df_corr = df_full.corr().iloc[[4, 47]].T\n",
    "df_corr[df_corr['final.output.recovery']>0.5]['final.output.recovery'].to_frame()"
   ]
  },
  {
   "cell_type": "code",
   "execution_count": 30,
   "metadata": {},
   "outputs": [
    {
     "data": {
      "text/html": [
       "<div>\n",
       "<style scoped>\n",
       "    .dataframe tbody tr th:only-of-type {\n",
       "        vertical-align: middle;\n",
       "    }\n",
       "\n",
       "    .dataframe tbody tr th {\n",
       "        vertical-align: top;\n",
       "    }\n",
       "\n",
       "    .dataframe thead th {\n",
       "        text-align: right;\n",
       "    }\n",
       "</style>\n",
       "<table border=\"1\" class=\"dataframe\">\n",
       "  <thead>\n",
       "    <tr style=\"text-align: right;\">\n",
       "      <th></th>\n",
       "      <th>rougher.output.recovery</th>\n",
       "    </tr>\n",
       "  </thead>\n",
       "  <tbody>\n",
       "    <tr>\n",
       "      <td>rougher.output.concentrate_ag</td>\n",
       "      <td>0.661330</td>\n",
       "    </tr>\n",
       "    <tr>\n",
       "      <td>rougher.output.concentrate_pb</td>\n",
       "      <td>0.552622</td>\n",
       "    </tr>\n",
       "    <tr>\n",
       "      <td>rougher.output.concentrate_sol</td>\n",
       "      <td>0.604420</td>\n",
       "    </tr>\n",
       "    <tr>\n",
       "      <td>rougher.output.concentrate_au</td>\n",
       "      <td>0.579638</td>\n",
       "    </tr>\n",
       "    <tr>\n",
       "      <td>rougher.output.recovery</td>\n",
       "      <td>1.000000</td>\n",
       "    </tr>\n",
       "  </tbody>\n",
       "</table>\n",
       "</div>"
      ],
      "text/plain": [
       "                                rougher.output.recovery\n",
       "rougher.output.concentrate_ag                  0.661330\n",
       "rougher.output.concentrate_pb                  0.552622\n",
       "rougher.output.concentrate_sol                 0.604420\n",
       "rougher.output.concentrate_au                  0.579638\n",
       "rougher.output.recovery                        1.000000"
      ]
     },
     "execution_count": 30,
     "metadata": {},
     "output_type": "execute_result"
    }
   ],
   "source": [
    "df_corr[df_corr['rougher.output.recovery']>0.5]['rougher.output.recovery'].to_frame()"
   ]
  },
  {
   "cell_type": "markdown",
   "metadata": {},
   "source": [
    "Посчитатали корреляцию для эффективности обогащения для флотации руды и для финального концентрата. Для финального концентрата значимой корреляции не выявлено. Для флотации руды выявлены значимые корреляции со следующими параметрами: концетрация серебра после флатации, концентрация свинца после флотации, концентрация золей(sol) после флотации и концентрация золота после флотации. Последнее весьма ожидаемо. "
   ]
  },
  {
   "cell_type": "code",
   "execution_count": null,
   "metadata": {},
   "outputs": [],
   "source": []
  },
  {
   "cell_type": "markdown",
   "metadata": {},
   "source": [
    "### Предобработка данных"
   ]
  },
  {
   "cell_type": "code",
   "execution_count": 31,
   "metadata": {},
   "outputs": [
    {
     "data": {
      "text/plain": [
       "array([[<matplotlib.axes._subplots.AxesSubplot object at 0x7f37d7b66650>,\n",
       "        <matplotlib.axes._subplots.AxesSubplot object at 0x7f37d7b3bed0>],\n",
       "       [<matplotlib.axes._subplots.AxesSubplot object at 0x7f37d7af0b90>,\n",
       "        <matplotlib.axes._subplots.AxesSubplot object at 0x7f37d7aaee90>]],\n",
       "      dtype=object)"
      ]
     },
     "execution_count": 31,
     "metadata": {},
     "output_type": "execute_result"
    },
    {
     "data": {
      "image/png": "[encoded data removed]",
      "text/plain": [
       "<Figure size 1080x720 with 4 Axes>"
      ]
     },
     "metadata": {
      "needs_background": "light"
     },
     "output_type": "display_data"
    }
   ],
   "source": [
    "df_full[['secondary_cleaner.output.tail_sol',\\\n",
    "         'rougher.input.floatbank11_xanthate', 'rougher.state.floatbank10_e_air']].hist(bins = 30, figsize = (15,10))\n"
   ]
  },
  {
   "cell_type": "code",
   "execution_count": 32,
   "metadata": {},
   "outputs": [
    {
     "data": {
      "text/plain": [
       "secondary_cleaner.output.tail_sol        7.167247\n",
       "rougher.input.floatbank11_xanthate       6.065533\n",
       "rougher.state.floatbank10_e_air       1080.869685\n",
       "dtype: float64"
      ]
     },
     "execution_count": 32,
     "metadata": {},
     "output_type": "execute_result"
    }
   ],
   "source": [
    "df_full[['secondary_cleaner.output.tail_sol',\\\n",
    "         'rougher.input.floatbank11_xanthate', 'rougher.state.floatbank10_e_air']].mean()"
   ]
  },
  {
   "cell_type": "markdown",
   "metadata": {},
   "source": [
    "## Анализ данных"
   ]
  },
  {
   "cell_type": "markdown",
   "metadata": {},
   "source": [
    "### Анализ концентрации металлов (Au, Ag, Pb) на различных этапах очистки"
   ]
  },
  {
   "cell_type": "code",
   "execution_count": 33,
   "metadata": {},
   "outputs": [],
   "source": [
    "au_concentrate_columns = ['rougher.output.concentrate_au', 'primary_cleaner.output.concentrate_au', 'final.output.concentrate_au']\n",
    "ag_concentrate_columns = ['rougher.output.concentrate_ag', 'primary_cleaner.output.concentrate_ag', 'final.output.concentrate_ag']\n",
    "pb_concentrate_columns = ['rougher.output.concentrate_pb', 'primary_cleaner.output.concentrate_pb', 'final.output.concentrate_pb']"
   ]
  },
  {
   "cell_type": "code",
   "execution_count": 34,
   "metadata": {},
   "outputs": [
    {
     "data": {
      "image/png": "[encoded data removed]",
      "text/plain": [
       "<Figure size 864x1080 with 3 Axes>"
      ]
     },
     "metadata": {
      "needs_background": "light"
     },
     "output_type": "display_data"
    }
   ],
   "source": [
    "ALPHA = 0.5\n",
    "BINS  = 200\n",
    "COLORS = ['sienna', 'lime', 'royalblue']\n",
    "\n",
    "fig, ax = plt.subplots(3, 1)\n",
    "fig.set_size_inches(12, 15)\n",
    "ax[0].set_title(f\"Concentrate of metals\", fontsize=16)\n",
    "\n",
    "patches = []\n",
    "for clmn, color in zip(au_concentrate_columns, COLORS):\n",
    "    ax[0].hist(df_full[clmn], density=True, color=color, bins=BINS, alpha=ALPHA)\n",
    "    patches.append(mpatches.Patch(color=color, label=clmn.split('.')[0]))\n",
    "ax[0].grid(True)\n",
    "ax[0].set_xlabel(f\"Au\", fontsize=14)\n",
    "ax[0].set_ylabel('Count', fontsize=14)\n",
    "ax[0].legend(handles=patches, loc='upper left')\n",
    "\n",
    "for clmn, color in zip(ag_concentrate_columns, COLORS):\n",
    "    ax[1].hist(df_full[clmn], density=True, color=color, bins=BINS, alpha=ALPHA)\n",
    "ax[1].grid(True)\n",
    "ax[1].set_xlabel(f\"Ag\", fontsize=14)\n",
    "ax[1].set_ylabel('Count', fontsize=14)\n",
    "ax[1].legend(handles=patches, loc='upper right')\n",
    "\n",
    "for clmn, color in zip(pb_concentrate_columns, COLORS):\n",
    "    ax[2].hist(df_full[clmn], density=True, color=color, bins=BINS, alpha=ALPHA)\n",
    "ax[2].grid(True)\n",
    "ax[2].set_xlabel(f\"Pb\", fontsize=14)\n",
    "ax[2].set_ylabel('Count', fontsize=14)\n",
    "ax[2].legend(handles=patches, loc='upper right')\n",
    "\n",
    "plt.subplots_adjust(hspace=0.25)\n",
    "plt.show()"
   ]
  },
  {
   "cell_type": "code",
   "execution_count": 35,
   "metadata": {},
   "outputs": [
    {
     "data": {
      "text/html": [
       "<div>\n",
       "<style scoped>\n",
       "    .dataframe tbody tr th:only-of-type {\n",
       "        vertical-align: middle;\n",
       "    }\n",
       "\n",
       "    .dataframe tbody tr th {\n",
       "        vertical-align: top;\n",
       "    }\n",
       "\n",
       "    .dataframe thead th {\n",
       "        text-align: right;\n",
       "    }\n",
       "</style>\n",
       "<table border=\"1\" class=\"dataframe\">\n",
       "  <thead>\n",
       "    <tr style=\"text-align: right;\">\n",
       "      <th></th>\n",
       "      <th>rougher.output.concentrate_au</th>\n",
       "      <th>primary_cleaner.output.concentrate_au</th>\n",
       "      <th>final.output.concentrate_au</th>\n",
       "    </tr>\n",
       "  </thead>\n",
       "  <tbody>\n",
       "    <tr>\n",
       "      <td>count</td>\n",
       "      <td>19439.000000</td>\n",
       "      <td>19439.000000</td>\n",
       "      <td>19439.000000</td>\n",
       "    </tr>\n",
       "    <tr>\n",
       "      <td>mean</td>\n",
       "      <td>19.772000</td>\n",
       "      <td>32.119400</td>\n",
       "      <td>44.076513</td>\n",
       "    </tr>\n",
       "    <tr>\n",
       "      <td>std</td>\n",
       "      <td>3.753600</td>\n",
       "      <td>5.627611</td>\n",
       "      <td>5.129784</td>\n",
       "    </tr>\n",
       "    <tr>\n",
       "      <td>min</td>\n",
       "      <td>0.000000</td>\n",
       "      <td>0.000000</td>\n",
       "      <td>0.000000</td>\n",
       "    </tr>\n",
       "    <tr>\n",
       "      <td>25%</td>\n",
       "      <td>18.802523</td>\n",
       "      <td>30.463140</td>\n",
       "      <td>43.402215</td>\n",
       "    </tr>\n",
       "    <tr>\n",
       "      <td>50%</td>\n",
       "      <td>20.280214</td>\n",
       "      <td>32.841295</td>\n",
       "      <td>45.011244</td>\n",
       "    </tr>\n",
       "    <tr>\n",
       "      <td>75%</td>\n",
       "      <td>21.717843</td>\n",
       "      <td>35.048006</td>\n",
       "      <td>46.275313</td>\n",
       "    </tr>\n",
       "    <tr>\n",
       "      <td>max</td>\n",
       "      <td>28.824507</td>\n",
       "      <td>45.933934</td>\n",
       "      <td>52.756638</td>\n",
       "    </tr>\n",
       "  </tbody>\n",
       "</table>\n",
       "</div>"
      ],
      "text/plain": [
       "       rougher.output.concentrate_au  primary_cleaner.output.concentrate_au  \\\n",
       "count                   19439.000000                           19439.000000   \n",
       "mean                       19.772000                              32.119400   \n",
       "std                         3.753600                               5.627611   \n",
       "min                         0.000000                               0.000000   \n",
       "25%                        18.802523                              30.463140   \n",
       "50%                        20.280214                              32.841295   \n",
       "75%                        21.717843                              35.048006   \n",
       "max                        28.824507                              45.933934   \n",
       "\n",
       "       final.output.concentrate_au  \n",
       "count                 19439.000000  \n",
       "mean                     44.076513  \n",
       "std                       5.129784  \n",
       "min                       0.000000  \n",
       "25%                      43.402215  \n",
       "50%                      45.011244  \n",
       "75%                      46.275313  \n",
       "max                      52.756638  "
      ]
     },
     "execution_count": 35,
     "metadata": {},
     "output_type": "execute_result"
    }
   ],
   "source": [
    "df_full[au_concentrate_columns].describe()"
   ]
  },
  {
   "cell_type": "code",
   "execution_count": 36,
   "metadata": {},
   "outputs": [
    {
     "data": {
      "text/html": [
       "<div>\n",
       "<style scoped>\n",
       "    .dataframe tbody tr th:only-of-type {\n",
       "        vertical-align: middle;\n",
       "    }\n",
       "\n",
       "    .dataframe tbody tr th {\n",
       "        vertical-align: top;\n",
       "    }\n",
       "\n",
       "    .dataframe thead th {\n",
       "        text-align: right;\n",
       "    }\n",
       "</style>\n",
       "<table border=\"1\" class=\"dataframe\">\n",
       "  <thead>\n",
       "    <tr style=\"text-align: right;\">\n",
       "      <th></th>\n",
       "      <th>rougher.output.concentrate_ag</th>\n",
       "      <th>primary_cleaner.output.concentrate_ag</th>\n",
       "      <th>final.output.concentrate_ag</th>\n",
       "    </tr>\n",
       "  </thead>\n",
       "  <tbody>\n",
       "    <tr>\n",
       "      <td>count</td>\n",
       "      <td>19439.000000</td>\n",
       "      <td>19439.000000</td>\n",
       "      <td>19438.000000</td>\n",
       "    </tr>\n",
       "    <tr>\n",
       "      <td>mean</td>\n",
       "      <td>11.994759</td>\n",
       "      <td>8.442408</td>\n",
       "      <td>5.168470</td>\n",
       "    </tr>\n",
       "    <tr>\n",
       "      <td>std</td>\n",
       "      <td>2.733862</td>\n",
       "      <td>2.054465</td>\n",
       "      <td>1.372348</td>\n",
       "    </tr>\n",
       "    <tr>\n",
       "      <td>min</td>\n",
       "      <td>0.000000</td>\n",
       "      <td>0.000000</td>\n",
       "      <td>0.000000</td>\n",
       "    </tr>\n",
       "    <tr>\n",
       "      <td>25%</td>\n",
       "      <td>10.628337</td>\n",
       "      <td>7.263288</td>\n",
       "      <td>4.251240</td>\n",
       "    </tr>\n",
       "    <tr>\n",
       "      <td>50%</td>\n",
       "      <td>12.098115</td>\n",
       "      <td>8.507298</td>\n",
       "      <td>5.066094</td>\n",
       "    </tr>\n",
       "    <tr>\n",
       "      <td>75%</td>\n",
       "      <td>13.736996</td>\n",
       "      <td>9.809001</td>\n",
       "      <td>5.895527</td>\n",
       "    </tr>\n",
       "    <tr>\n",
       "      <td>max</td>\n",
       "      <td>24.480271</td>\n",
       "      <td>16.081632</td>\n",
       "      <td>16.001945</td>\n",
       "    </tr>\n",
       "  </tbody>\n",
       "</table>\n",
       "</div>"
      ],
      "text/plain": [
       "       rougher.output.concentrate_ag  primary_cleaner.output.concentrate_ag  \\\n",
       "count                   19439.000000                           19439.000000   \n",
       "mean                       11.994759                               8.442408   \n",
       "std                         2.733862                               2.054465   \n",
       "min                         0.000000                               0.000000   \n",
       "25%                        10.628337                               7.263288   \n",
       "50%                        12.098115                               8.507298   \n",
       "75%                        13.736996                               9.809001   \n",
       "max                        24.480271                              16.081632   \n",
       "\n",
       "       final.output.concentrate_ag  \n",
       "count                 19438.000000  \n",
       "mean                      5.168470  \n",
       "std                       1.372348  \n",
       "min                       0.000000  \n",
       "25%                       4.251240  \n",
       "50%                       5.066094  \n",
       "75%                       5.895527  \n",
       "max                      16.001945  "
      ]
     },
     "execution_count": 36,
     "metadata": {},
     "output_type": "execute_result"
    }
   ],
   "source": [
    "df_full[ag_concentrate_columns].describe()"
   ]
  },
  {
   "cell_type": "code",
   "execution_count": 37,
   "metadata": {},
   "outputs": [
    {
     "data": {
      "text/html": [
       "<div>\n",
       "<style scoped>\n",
       "    .dataframe tbody tr th:only-of-type {\n",
       "        vertical-align: middle;\n",
       "    }\n",
       "\n",
       "    .dataframe tbody tr th {\n",
       "        vertical-align: top;\n",
       "    }\n",
       "\n",
       "    .dataframe thead th {\n",
       "        text-align: right;\n",
       "    }\n",
       "</style>\n",
       "<table border=\"1\" class=\"dataframe\">\n",
       "  <thead>\n",
       "    <tr style=\"text-align: right;\">\n",
       "      <th></th>\n",
       "      <th>rougher.output.concentrate_pb</th>\n",
       "      <th>primary_cleaner.output.concentrate_pb</th>\n",
       "      <th>final.output.concentrate_pb</th>\n",
       "    </tr>\n",
       "  </thead>\n",
       "  <tbody>\n",
       "    <tr>\n",
       "      <td>count</td>\n",
       "      <td>19439.000000</td>\n",
       "      <td>19323.000000</td>\n",
       "      <td>19438.000000</td>\n",
       "    </tr>\n",
       "    <tr>\n",
       "      <td>mean</td>\n",
       "      <td>7.606272</td>\n",
       "      <td>9.829530</td>\n",
       "      <td>9.978895</td>\n",
       "    </tr>\n",
       "    <tr>\n",
       "      <td>std</td>\n",
       "      <td>1.796757</td>\n",
       "      <td>2.556843</td>\n",
       "      <td>1.669240</td>\n",
       "    </tr>\n",
       "    <tr>\n",
       "      <td>min</td>\n",
       "      <td>0.000000</td>\n",
       "      <td>0.000000</td>\n",
       "      <td>0.000000</td>\n",
       "    </tr>\n",
       "    <tr>\n",
       "      <td>25%</td>\n",
       "      <td>6.725987</td>\n",
       "      <td>8.702328</td>\n",
       "      <td>9.137262</td>\n",
       "    </tr>\n",
       "    <tr>\n",
       "      <td>50%</td>\n",
       "      <td>7.742580</td>\n",
       "      <td>10.152433</td>\n",
       "      <td>10.102433</td>\n",
       "    </tr>\n",
       "    <tr>\n",
       "      <td>75%</td>\n",
       "      <td>8.565199</td>\n",
       "      <td>11.424971</td>\n",
       "      <td>11.035769</td>\n",
       "    </tr>\n",
       "    <tr>\n",
       "      <td>max</td>\n",
       "      <td>13.617072</td>\n",
       "      <td>17.081278</td>\n",
       "      <td>17.031899</td>\n",
       "    </tr>\n",
       "  </tbody>\n",
       "</table>\n",
       "</div>"
      ],
      "text/plain": [
       "       rougher.output.concentrate_pb  primary_cleaner.output.concentrate_pb  \\\n",
       "count                   19439.000000                           19323.000000   \n",
       "mean                        7.606272                               9.829530   \n",
       "std                         1.796757                               2.556843   \n",
       "min                         0.000000                               0.000000   \n",
       "25%                         6.725987                               8.702328   \n",
       "50%                         7.742580                              10.152433   \n",
       "75%                         8.565199                              11.424971   \n",
       "max                        13.617072                              17.081278   \n",
       "\n",
       "       final.output.concentrate_pb  \n",
       "count                 19438.000000  \n",
       "mean                      9.978895  \n",
       "std                       1.669240  \n",
       "min                       0.000000  \n",
       "25%                       9.137262  \n",
       "50%                      10.102433  \n",
       "75%                      11.035769  \n",
       "max                      17.031899  "
      ]
     },
     "execution_count": 37,
     "metadata": {},
     "output_type": "execute_result"
    }
   ],
   "source": [
    "df_full[pb_concentrate_columns].describe()"
   ]
  },
  {
   "cell_type": "markdown",
   "metadata": {},
   "source": [
    "Из анализа графиков и статистик можно сделать следующие выводы:\n",
    "- Доля золота на каждом этапе увеличивается, что отвечает цели пройзводства по извлечению золота;\n",
    "- Доля серебра снижается в ходе технологического процесса;\n",
    "- Доля свинца после флотации возрастает, а на последующих этапах не изменяется. "
   ]
  },
  {
   "cell_type": "markdown",
   "metadata": {},
   "source": [
    "### Анализ распределения размеров гранул сырья на обучающей и тестовой выборках"
   ]
  },
  {
   "cell_type": "code",
   "execution_count": 38,
   "metadata": {},
   "outputs": [],
   "source": [
    "feed_sizes = ['rougher.input.feed_size', 'primary_cleaner.input.feed_size']"
   ]
  },
  {
   "cell_type": "code",
   "execution_count": 39,
   "metadata": {},
   "outputs": [
    {
     "data": {
      "text/html": [
       "<div>\n",
       "<style scoped>\n",
       "    .dataframe tbody tr th:only-of-type {\n",
       "        vertical-align: middle;\n",
       "    }\n",
       "\n",
       "    .dataframe tbody tr th {\n",
       "        vertical-align: top;\n",
       "    }\n",
       "\n",
       "    .dataframe thead th {\n",
       "        text-align: right;\n",
       "    }\n",
       "</style>\n",
       "<table border=\"1\" class=\"dataframe\">\n",
       "  <thead>\n",
       "    <tr style=\"text-align: right;\">\n",
       "      <th></th>\n",
       "      <th>train_rougher.input.feed_size</th>\n",
       "      <th>test_rougher.input.feed_size</th>\n",
       "      <th>train_primary_cleaner.input.feed_size</th>\n",
       "      <th>test_primary_cleaner.input.feed_size</th>\n",
       "    </tr>\n",
       "  </thead>\n",
       "  <tbody>\n",
       "    <tr>\n",
       "      <td>count</td>\n",
       "      <td>14005.000000</td>\n",
       "      <td>5289.000000</td>\n",
       "      <td>14149.000000</td>\n",
       "      <td>5290.000000</td>\n",
       "    </tr>\n",
       "    <tr>\n",
       "      <td>mean</td>\n",
       "      <td>60.110518</td>\n",
       "      <td>55.951097</td>\n",
       "      <td>7.322310</td>\n",
       "      <td>7.266339</td>\n",
       "    </tr>\n",
       "    <tr>\n",
       "      <td>std</td>\n",
       "      <td>22.418485</td>\n",
       "      <td>19.081758</td>\n",
       "      <td>0.614062</td>\n",
       "      <td>0.610219</td>\n",
       "    </tr>\n",
       "    <tr>\n",
       "      <td>min</td>\n",
       "      <td>9.659576</td>\n",
       "      <td>0.046369</td>\n",
       "      <td>1.080000</td>\n",
       "      <td>5.650000</td>\n",
       "    </tr>\n",
       "    <tr>\n",
       "      <td>25%</td>\n",
       "      <td>48.973027</td>\n",
       "      <td>43.906347</td>\n",
       "      <td>6.960000</td>\n",
       "      <td>6.890000</td>\n",
       "    </tr>\n",
       "    <tr>\n",
       "      <td>50%</td>\n",
       "      <td>55.373885</td>\n",
       "      <td>50.841029</td>\n",
       "      <td>7.290000</td>\n",
       "      <td>7.250000</td>\n",
       "    </tr>\n",
       "    <tr>\n",
       "      <td>75%</td>\n",
       "      <td>66.080172</td>\n",
       "      <td>62.431047</td>\n",
       "      <td>7.700000</td>\n",
       "      <td>7.600000</td>\n",
       "    </tr>\n",
       "    <tr>\n",
       "      <td>max</td>\n",
       "      <td>484.967466</td>\n",
       "      <td>392.494040</td>\n",
       "      <td>10.470000</td>\n",
       "      <td>15.500000</td>\n",
       "    </tr>\n",
       "  </tbody>\n",
       "</table>\n",
       "</div>"
      ],
      "text/plain": [
       "       train_rougher.input.feed_size  test_rougher.input.feed_size  \\\n",
       "count                   14005.000000                   5289.000000   \n",
       "mean                       60.110518                     55.951097   \n",
       "std                        22.418485                     19.081758   \n",
       "min                         9.659576                      0.046369   \n",
       "25%                        48.973027                     43.906347   \n",
       "50%                        55.373885                     50.841029   \n",
       "75%                        66.080172                     62.431047   \n",
       "max                       484.967466                    392.494040   \n",
       "\n",
       "       train_primary_cleaner.input.feed_size  \\\n",
       "count                           14149.000000   \n",
       "mean                                7.322310   \n",
       "std                                 0.614062   \n",
       "min                                 1.080000   \n",
       "25%                                 6.960000   \n",
       "50%                                 7.290000   \n",
       "75%                                 7.700000   \n",
       "max                                10.470000   \n",
       "\n",
       "       test_primary_cleaner.input.feed_size  \n",
       "count                           5290.000000  \n",
       "mean                               7.266339  \n",
       "std                                0.610219  \n",
       "min                                5.650000  \n",
       "25%                                6.890000  \n",
       "50%                                7.250000  \n",
       "75%                                7.600000  \n",
       "max                               15.500000  "
      ]
     },
     "execution_count": 39,
     "metadata": {},
     "output_type": "execute_result"
    }
   ],
   "source": [
    "d = pd.concat([df_train[feed_sizes].describe(), df_test[feed_sizes].describe()], axis=1)\n",
    "d.columns = ['train_rougher.input.feed_size', 'train_primary_cleaner.input.feed_size',\n",
    "       'test_rougher.input.feed_size', 'test_primary_cleaner.input.feed_size']\n",
    "\n",
    "d[['train_rougher.input.feed_size','test_rougher.input.feed_size','train_primary_cleaner.input.feed_size','test_primary_cleaner.input.feed_size']]"
   ]
  },
  {
   "cell_type": "code",
   "execution_count": 40,
   "metadata": {},
   "outputs": [
    {
     "data": {
      "text/plain": [
       "pandas.core.frame.DataFrame"
      ]
     },
     "execution_count": 40,
     "metadata": {},
     "output_type": "execute_result"
    }
   ],
   "source": [
    "type(df_test[feed_sizes].describe())"
   ]
  },
  {
   "cell_type": "code",
   "execution_count": 41,
   "metadata": {},
   "outputs": [
    {
     "data": {
      "image/png": "[encoded data removed]",
      "text/plain": [
       "<Figure size 576x864 with 2 Axes>"
      ]
     },
     "metadata": {
      "needs_background": "light"
     },
     "output_type": "display_data"
    }
   ],
   "source": [
    "ALPHA = 0.5\n",
    "BINS  = 30\n",
    "COLORS = ['sienna', 'lime']\n",
    "\n",
    "fig, ax = plt.subplots(2, 1)\n",
    "fig.set_size_inches(8, 12)\n",
    "ax[0].set_title(f\"Size feed\", fontsize=16)\n",
    "ax[0].set(xlim = (20,120))\n",
    "ax[0].hist(df_train['rougher.input.feed_size'], density=True, color='sienna', bins=BINS, alpha=ALPHA)\n",
    "ax[0].hist(df_test['rougher.input.feed_size'], density=True, color='lime', bins=BINS, alpha=ALPHA)\n",
    "ax[0].grid(True)\n",
    "ax[0].set_xlabel(f\"Размер частит при флотации\", fontsize=14)\n",
    "ax[0].set_ylabel('Частота', fontsize=14)\n",
    "\n",
    "patches = []\n",
    "patches.append(mpatches.Patch(color='sienna', label='train'))\n",
    "patches.append(mpatches.Patch(color='lime', label='test'))\n",
    "ax[0].legend(handles=patches, loc='upper right')\n",
    "\n",
    "ax[1].hist(df_train['primary_cleaner.input.feed_size'], density=True, color='sienna', bins=BINS, alpha=ALPHA)\n",
    "ax[1].hist(df_test['primary_cleaner.input.feed_size'], density=True, color='lime', bins=BINS, alpha=ALPHA)\n",
    "ax[1].set(xlim = (5,10))\n",
    "ax[1].grid(True)\n",
    "ax[1].set_xlabel(f\"Размер частит при первичной очистке\", fontsize=14)\n",
    "ax[1].set_ylabel('Частота', fontsize=14)\n",
    "ax[1].legend(handles=patches, loc='upper right')\n",
    "plt.subplots_adjust(hspace=0.15)\n",
    "plt.show()"
   ]
  },
  {
   "cell_type": "code",
   "execution_count": 42,
   "metadata": {},
   "outputs": [
    {
     "data": {
      "text/plain": [
       "Ttest_relResult(statistic=10.531235227632523, pvalue=1.1303427248199019e-25)"
      ]
     },
     "execution_count": 42,
     "metadata": {},
     "output_type": "execute_result"
    }
   ],
   "source": [
    "ttest_rel(df_train['rougher.input.feed_size'].sample(5200, random_state =RND), \\\n",
    "          df_test['rougher.input.feed_size'].sample(5200, random_state =RND), nan_policy='omit')"
   ]
  },
  {
   "cell_type": "code",
   "execution_count": 43,
   "metadata": {},
   "outputs": [
    {
     "data": {
      "text/plain": [
       "1.0797900340573945"
      ]
     },
     "execution_count": 43,
     "metadata": {},
     "output_type": "execute_result"
    }
   ],
   "source": [
    "df_train.sample(5200, random_state =RND)['rougher.input.feed_size'].mean()/df_test.sample(5290, random_state =RND)['rougher.input.feed_size'].mean()"
   ]
  },
  {
   "cell_type": "code",
   "execution_count": 44,
   "metadata": {},
   "outputs": [
    {
     "data": {
      "text/plain": [
       "Ttest_relResult(statistic=4.513346446885306, pvalue=6.522049773195868e-06)"
      ]
     },
     "execution_count": 44,
     "metadata": {},
     "output_type": "execute_result"
    }
   ],
   "source": [
    "ttest_rel(df_train.sample(5200, random_state =RND)['primary_cleaner.input.feed_size'], \\\n",
    "          df_test.sample(5200, random_state =RND)['primary_cleaner.input.feed_size'], nan_policy='omit')"
   ]
  },
  {
   "cell_type": "code",
   "execution_count": 45,
   "metadata": {},
   "outputs": [
    {
     "data": {
      "text/plain": [
       "1.0073828609860411"
      ]
     },
     "execution_count": 45,
     "metadata": {},
     "output_type": "execute_result"
    }
   ],
   "source": [
    "(\n",
    "    df_train.sample(5200, random_state =RND)['primary_cleaner.input.feed_size'].mean()/\n",
    " df_test.sample(5200, random_state =RND)['primary_cleaner.input.feed_size'].mean()\n",
    ")"
   ]
  },
  {
   "cell_type": "code",
   "execution_count": 46,
   "metadata": {},
   "outputs": [
    {
     "data": {
      "text/plain": [
       "Ttest_relResult(statistic=-0.2722427665169175, pvalue=0.7865792856144631)"
      ]
     },
     "execution_count": 46,
     "metadata": {},
     "output_type": "execute_result"
    }
   ],
   "source": [
    "ttest_rel(df_train.sample(50, random_state =12)['primary_cleaner.input.feed_size'], \\\n",
    "          df_train.sample(50, random_state =RND)['primary_cleaner.input.feed_size'], nan_policy='omit')"
   ]
  },
  {
   "cell_type": "markdown",
   "metadata": {},
   "source": []
  },
  {
   "cell_type": "markdown",
   "metadata": {},
   "source": [
    "## Модель"
   ]
  },
  {
   "cell_type": "code",
   "execution_count": null,
   "metadata": {},
   "outputs": [],
   "source": []
  },
  {
   "cell_type": "markdown",
   "metadata": {},
   "source": [
    "## Чек-лист готовности проекта"
   ]
  },
  {
   "cell_type": "markdown",
   "metadata": {},
   "source": [
    "- [x]  Jupyter Notebook открыт\n",
    "- [ ]  Весь код выполняется без ошибок\n",
    "- [ ]  Ячейки с кодом расположены в порядке выполнения\n",
    "- [ ]  Выполнен шаг 1: данные подготовлены\n",
    "    - [ ]  Проверена формула вычисления эффективности обогащения\n",
    "    - [ ]  Проанализированы признаки, недоступные в тестовой выборке\n",
    "    - [ ]  Проведена предобработка данных\n",
    "- [ ]  Выполнен шаг 2: данные проанализированы\n",
    "    - [ ]  Исследовано изменение концентрации элементов на каждом этапе\n",
    "    - [ ]  Проанализированы распределения размеров гранул на обучающей и тестовой выборках\n",
    "    - [ ]  Исследованы суммарные концентрации\n",
    "- [ ]  Выполнен шаг 3: построена модель прогнозирования\n",
    "    - [ ]  Написана функция для вычисления итогового *sMAPE*\n",
    "    - [ ]  Обучено и проверено несколько моделей\n",
    "    - [ ]  Выбрана лучшая модель, её качество проверено на тестовой выборке"
   ]
  }
 ],
 "metadata": {
  "ExecuteTimeLog": [
   {
    "duration": 1201,
    "start_time": "2022-01-24T07:31:13.762Z"
   },
   {
    "duration": 4142,
    "start_time": "2022-01-24T07:31:14.965Z"
   },
   {
    "duration": 15,
    "start_time": "2022-01-24T07:31:39.300Z"
   },
   {
    "duration": 61,
    "start_time": "2022-01-24T07:33:12.991Z"
   },
   {
    "duration": 340,
    "start_time": "2022-01-25T06:22:40.716Z"
   },
   {
    "duration": 1636,
    "start_time": "2022-01-25T06:22:45.141Z"
   },
   {
    "duration": 5567,
    "start_time": "2022-01-25T06:22:46.780Z"
   },
   {
    "duration": 101,
    "start_time": "2022-01-25T06:22:52.350Z"
   },
   {
    "duration": 32,
    "start_time": "2022-01-25T06:22:52.454Z"
   },
   {
    "duration": 6,
    "start_time": "2022-01-25T06:22:52.488Z"
   },
   {
    "duration": 4,
    "start_time": "2022-01-25T06:24:12.951Z"
   },
   {
    "duration": 6,
    "start_time": "2022-01-25T06:24:32.482Z"
   },
   {
    "duration": 364,
    "start_time": "2022-01-25T06:24:42.171Z"
   },
   {
    "duration": 6395,
    "start_time": "2022-01-25T06:24:52.801Z"
   },
   {
    "duration": 7799,
    "start_time": "2022-01-25T06:25:30.221Z"
   },
   {
    "duration": 9201,
    "start_time": "2022-01-25T06:25:49.301Z"
   },
   {
    "duration": 5,
    "start_time": "2022-01-25T06:26:36.882Z"
   },
   {
    "duration": 419,
    "start_time": "2022-01-25T06:27:15.563Z"
   },
   {
    "duration": 4,
    "start_time": "2022-01-25T06:27:23.198Z"
   },
   {
    "duration": 13581,
    "start_time": "2022-01-25T06:27:26.251Z"
   },
   {
    "duration": 16370,
    "start_time": "2022-01-25T06:27:53.782Z"
   },
   {
    "duration": 8969,
    "start_time": "2022-01-25T06:29:42.565Z"
   },
   {
    "duration": 7993,
    "start_time": "2022-01-25T06:29:53.902Z"
   },
   {
    "duration": 15751,
    "start_time": "2022-01-25T06:30:28.531Z"
   },
   {
    "duration": 5,
    "start_time": "2022-01-25T06:31:16.159Z"
   },
   {
    "duration": 11475,
    "start_time": "2022-01-25T06:31:22.273Z"
   },
   {
    "duration": 1571,
    "start_time": "2022-01-26T06:41:07.078Z"
   },
   {
    "duration": 1939,
    "start_time": "2022-01-26T06:41:08.652Z"
   },
   {
    "duration": 110,
    "start_time": "2022-01-26T06:41:10.594Z"
   },
   {
    "duration": 24,
    "start_time": "2022-01-26T06:41:10.706Z"
   },
   {
    "duration": 8,
    "start_time": "2022-01-26T06:41:10.749Z"
   },
   {
    "duration": 7,
    "start_time": "2022-01-26T06:41:10.760Z"
   },
   {
    "duration": 26,
    "start_time": "2022-01-26T06:41:10.769Z"
   },
   {
    "duration": 8155,
    "start_time": "2022-01-26T06:41:10.798Z"
   },
   {
    "duration": 10793,
    "start_time": "2022-01-26T06:41:18.956Z"
   },
   {
    "duration": 6,
    "start_time": "2022-01-26T06:41:51.364Z"
   },
   {
    "duration": 8,
    "start_time": "2022-01-26T06:42:02.107Z"
   },
   {
    "duration": 7,
    "start_time": "2022-01-26T06:42:35.845Z"
   },
   {
    "duration": 6,
    "start_time": "2022-01-26T06:43:22.987Z"
   },
   {
    "duration": 7,
    "start_time": "2022-01-26T06:43:40.726Z"
   },
   {
    "duration": 7,
    "start_time": "2022-01-26T06:44:04.914Z"
   },
   {
    "duration": 557,
    "start_time": "2022-01-26T06:45:45.959Z"
   },
   {
    "duration": 7,
    "start_time": "2022-01-26T06:46:21.006Z"
   },
   {
    "duration": 297,
    "start_time": "2022-01-26T06:47:36.897Z"
   },
   {
    "duration": 6,
    "start_time": "2022-01-26T06:47:45.727Z"
   },
   {
    "duration": 6,
    "start_time": "2022-01-26T06:48:21.328Z"
   },
   {
    "duration": 6,
    "start_time": "2022-01-26T06:53:19.097Z"
   },
   {
    "duration": 6,
    "start_time": "2022-01-26T06:53:47.212Z"
   },
   {
    "duration": 92,
    "start_time": "2022-01-26T06:54:11.821Z"
   },
   {
    "duration": 7,
    "start_time": "2022-01-26T06:54:14.279Z"
   },
   {
    "duration": 6,
    "start_time": "2022-01-26T06:54:25.420Z"
   },
   {
    "duration": 7,
    "start_time": "2022-01-26T06:55:12.132Z"
   },
   {
    "duration": 8,
    "start_time": "2022-01-26T07:16:04.320Z"
   },
   {
    "duration": 7,
    "start_time": "2022-01-26T07:16:20.548Z"
   },
   {
    "duration": 8,
    "start_time": "2022-01-26T07:16:50.408Z"
   },
   {
    "duration": 373,
    "start_time": "2022-01-26T07:17:11.258Z"
   },
   {
    "duration": 283,
    "start_time": "2022-01-26T07:17:20.278Z"
   },
   {
    "duration": 291,
    "start_time": "2022-01-26T07:18:31.130Z"
   },
   {
    "duration": 9,
    "start_time": "2022-01-26T07:19:01.790Z"
   },
   {
    "duration": 7,
    "start_time": "2022-01-26T07:19:39.859Z"
   },
   {
    "duration": 9,
    "start_time": "2022-01-26T07:20:04.940Z"
   },
   {
    "duration": 7,
    "start_time": "2022-01-26T08:00:42.557Z"
   },
   {
    "duration": 13959,
    "start_time": "2022-01-26T08:00:53.957Z"
   },
   {
    "duration": 290,
    "start_time": "2022-01-26T08:02:22.608Z"
   },
   {
    "duration": 7,
    "start_time": "2022-01-26T08:02:43.117Z"
   },
   {
    "duration": 4131,
    "start_time": "2022-01-26T08:02:50.216Z"
   },
   {
    "duration": 4,
    "start_time": "2022-01-26T08:03:56.916Z"
   },
   {
    "duration": 4,
    "start_time": "2022-01-26T08:04:06.403Z"
   },
   {
    "duration": 285,
    "start_time": "2022-01-26T08:04:15.546Z"
   },
   {
    "duration": 5,
    "start_time": "2022-01-26T08:04:32.646Z"
   },
   {
    "duration": 5,
    "start_time": "2022-01-26T08:04:52.758Z"
   },
   {
    "duration": 5,
    "start_time": "2022-01-26T08:05:35.386Z"
   },
   {
    "duration": 5,
    "start_time": "2022-01-26T08:05:46.586Z"
   },
   {
    "duration": 328,
    "start_time": "2022-01-26T08:05:53.903Z"
   },
   {
    "duration": 5,
    "start_time": "2022-01-26T08:06:05.017Z"
   },
   {
    "duration": 4096,
    "start_time": "2022-01-26T08:06:17.137Z"
   },
   {
    "duration": 6,
    "start_time": "2022-01-26T08:06:34.717Z"
   },
   {
    "duration": 3153,
    "start_time": "2022-01-26T08:07:21.216Z"
   },
   {
    "duration": 4391,
    "start_time": "2022-01-26T08:07:46.068Z"
   },
   {
    "duration": 4018,
    "start_time": "2022-01-26T08:08:00.662Z"
   },
   {
    "duration": 4807,
    "start_time": "2022-01-26T08:08:30.779Z"
   },
   {
    "duration": 5392,
    "start_time": "2022-01-26T08:09:20.128Z"
   },
   {
    "duration": 5579,
    "start_time": "2022-01-26T08:09:32.669Z"
   },
   {
    "duration": 6321,
    "start_time": "2022-01-26T08:10:07.179Z"
   },
   {
    "duration": 456,
    "start_time": "2022-01-26T08:13:27.130Z"
   },
   {
    "duration": 463,
    "start_time": "2022-01-26T08:13:36.111Z"
   },
   {
    "duration": 480,
    "start_time": "2022-01-26T08:14:20.032Z"
   },
   {
    "duration": 652,
    "start_time": "2022-01-26T08:14:53.303Z"
   },
   {
    "duration": 638,
    "start_time": "2022-01-26T08:14:56.870Z"
   },
   {
    "duration": 681,
    "start_time": "2022-01-26T08:16:02.062Z"
   },
   {
    "duration": 588,
    "start_time": "2022-01-26T08:17:36.424Z"
   },
   {
    "duration": 577,
    "start_time": "2022-01-26T08:18:26.162Z"
   },
   {
    "duration": 579,
    "start_time": "2022-01-26T08:18:27.691Z"
   },
   {
    "duration": 764,
    "start_time": "2022-01-26T08:18:34.611Z"
   },
   {
    "duration": 1211,
    "start_time": "2022-01-26T13:06:08.249Z"
   },
   {
    "duration": 7177,
    "start_time": "2022-01-26T13:06:09.462Z"
   },
   {
    "duration": 3,
    "start_time": "2022-01-26T13:06:16.641Z"
   },
   {
    "duration": 7,
    "start_time": "2022-01-26T13:06:16.646Z"
   },
   {
    "duration": 4,
    "start_time": "2022-01-26T13:06:16.654Z"
   },
   {
    "duration": 14,
    "start_time": "2022-01-26T13:06:16.659Z"
   },
   {
    "duration": 5,
    "start_time": "2022-01-26T13:06:16.674Z"
   },
   {
    "duration": 47,
    "start_time": "2022-01-26T13:06:16.681Z"
   },
   {
    "duration": 13,
    "start_time": "2022-01-26T13:06:16.730Z"
   },
   {
    "duration": 29,
    "start_time": "2022-01-26T13:06:16.745Z"
   },
   {
    "duration": 4,
    "start_time": "2022-01-26T13:06:16.775Z"
   },
   {
    "duration": 5,
    "start_time": "2022-01-26T13:06:16.780Z"
   },
   {
    "duration": 12,
    "start_time": "2022-01-26T13:06:16.786Z"
   },
   {
    "duration": 2278,
    "start_time": "2022-01-26T13:06:16.799Z"
   },
   {
    "duration": 3292,
    "start_time": "2022-01-26T13:06:19.079Z"
   },
   {
    "duration": 341,
    "start_time": "2022-01-26T13:06:22.373Z"
   },
   {
    "duration": 347,
    "start_time": "2022-01-26T13:06:22.716Z"
   },
   {
    "duration": 355,
    "start_time": "2022-01-26T13:06:23.064Z"
   },
   {
    "duration": 334,
    "start_time": "2022-01-26T13:06:23.420Z"
   },
   {
    "duration": 4,
    "start_time": "2022-01-26T13:06:51.374Z"
   },
   {
    "duration": 5,
    "start_time": "2022-01-26T13:07:32.916Z"
   },
   {
    "duration": 4,
    "start_time": "2022-01-26T13:11:35.298Z"
   },
   {
    "duration": 355,
    "start_time": "2022-01-26T13:13:21.436Z"
   },
   {
    "duration": 387,
    "start_time": "2022-01-26T13:13:46.355Z"
   },
   {
    "duration": 383,
    "start_time": "2022-01-26T13:13:58.436Z"
   },
   {
    "duration": 3,
    "start_time": "2022-01-26T13:14:53.497Z"
   },
   {
    "duration": 4,
    "start_time": "2022-01-26T13:14:57.539Z"
   },
   {
    "duration": 4,
    "start_time": "2022-01-26T13:18:03.955Z"
   },
   {
    "duration": 279,
    "start_time": "2022-01-26T13:18:18.848Z"
   },
   {
    "duration": 378,
    "start_time": "2022-01-26T13:18:27.705Z"
   },
   {
    "duration": 3,
    "start_time": "2022-01-26T13:21:47.011Z"
   },
   {
    "duration": 3,
    "start_time": "2022-01-26T13:22:09.099Z"
   },
   {
    "duration": 6,
    "start_time": "2022-01-26T13:24:48.829Z"
   },
   {
    "duration": 3,
    "start_time": "2022-01-26T13:24:49.680Z"
   },
   {
    "duration": 6,
    "start_time": "2022-01-26T13:26:26.810Z"
   },
   {
    "duration": 5,
    "start_time": "2022-01-26T13:26:39.481Z"
   },
   {
    "duration": 4,
    "start_time": "2022-01-26T13:26:54.792Z"
   },
   {
    "duration": 1648,
    "start_time": "2022-01-27T08:41:11.385Z"
   },
   {
    "duration": 3435,
    "start_time": "2022-01-27T08:41:13.035Z"
   },
   {
    "duration": 5,
    "start_time": "2022-01-27T08:41:16.473Z"
   },
   {
    "duration": 6,
    "start_time": "2022-01-27T08:41:16.482Z"
   },
   {
    "duration": 623,
    "start_time": "2022-01-27T08:41:16.490Z"
   },
   {
    "duration": 10,
    "start_time": "2022-01-27T08:41:17.115Z"
   },
   {
    "duration": 8,
    "start_time": "2022-01-27T08:41:17.127Z"
   },
   {
    "duration": 14,
    "start_time": "2022-01-27T08:41:17.139Z"
   },
   {
    "duration": 17,
    "start_time": "2022-01-27T08:41:17.157Z"
   },
   {
    "duration": 9,
    "start_time": "2022-01-27T08:41:17.176Z"
   },
   {
    "duration": 38,
    "start_time": "2022-01-27T08:41:17.188Z"
   },
   {
    "duration": 96,
    "start_time": "2022-01-27T08:41:17.229Z"
   },
   {
    "duration": 19,
    "start_time": "2022-01-27T08:41:17.327Z"
   },
   {
    "duration": 5,
    "start_time": "2022-01-27T08:41:17.350Z"
   },
   {
    "duration": 5,
    "start_time": "2022-01-27T08:41:17.357Z"
   },
   {
    "duration": 6,
    "start_time": "2022-01-27T08:41:17.365Z"
   },
   {
    "duration": 10,
    "start_time": "2022-01-27T08:41:17.373Z"
   },
   {
    "duration": 4609,
    "start_time": "2022-01-27T08:41:17.386Z"
   },
   {
    "duration": 7995,
    "start_time": "2022-01-27T08:41:21.997Z"
   },
   {
    "duration": 784,
    "start_time": "2022-01-27T08:41:29.995Z"
   },
   {
    "duration": 701,
    "start_time": "2022-01-27T08:41:30.782Z"
   },
   {
    "duration": 575,
    "start_time": "2022-01-27T08:41:31.485Z"
   },
   {
    "duration": 563,
    "start_time": "2022-01-27T08:41:32.064Z"
   },
   {
    "duration": 742,
    "start_time": "2022-01-27T08:41:37.150Z"
   },
   {
    "duration": 712,
    "start_time": "2022-01-27T08:43:55.827Z"
   },
   {
    "duration": 971,
    "start_time": "2022-01-27T08:44:06.074Z"
   },
   {
    "duration": 543,
    "start_time": "2022-01-27T08:44:18.560Z"
   },
   {
    "duration": 903,
    "start_time": "2022-01-27T08:44:35.792Z"
   },
   {
    "duration": 784,
    "start_time": "2022-01-27T08:44:59.140Z"
   },
   {
    "duration": 98,
    "start_time": "2022-01-27T08:45:03.831Z"
   },
   {
    "duration": 95,
    "start_time": "2022-01-27T08:45:07.200Z"
   },
   {
    "duration": 306,
    "start_time": "2022-01-27T08:45:51.333Z"
   },
   {
    "duration": 312,
    "start_time": "2022-01-27T08:46:02.461Z"
   },
   {
    "duration": 454,
    "start_time": "2022-01-27T08:46:13.094Z"
   },
   {
    "duration": 304,
    "start_time": "2022-01-27T08:46:55.703Z"
   },
   {
    "duration": 404,
    "start_time": "2022-01-27T08:47:39.622Z"
   },
   {
    "duration": 300,
    "start_time": "2022-01-27T08:49:15.672Z"
   },
   {
    "duration": 583,
    "start_time": "2022-01-27T08:49:47.684Z"
   },
   {
    "duration": 303,
    "start_time": "2022-01-27T08:50:16.662Z"
   },
   {
    "duration": 323,
    "start_time": "2022-01-27T08:50:28.163Z"
   },
   {
    "duration": 325,
    "start_time": "2022-01-27T08:50:43.892Z"
   },
   {
    "duration": 306,
    "start_time": "2022-01-27T08:51:11.241Z"
   },
   {
    "duration": 313,
    "start_time": "2022-01-27T08:51:17.002Z"
   },
   {
    "duration": 362,
    "start_time": "2022-01-27T08:51:22.302Z"
   },
   {
    "duration": 308,
    "start_time": "2022-01-27T08:51:29.292Z"
   },
   {
    "duration": 314,
    "start_time": "2022-01-27T08:51:51.288Z"
   },
   {
    "duration": 15,
    "start_time": "2022-01-27T08:52:08.539Z"
   },
   {
    "duration": 369,
    "start_time": "2022-01-27T08:57:45.728Z"
   },
   {
    "duration": 377,
    "start_time": "2022-01-27T08:57:54.748Z"
   },
   {
    "duration": 301,
    "start_time": "2022-01-27T08:57:56.015Z"
   },
   {
    "duration": 11,
    "start_time": "2022-01-27T08:57:57.815Z"
   },
   {
    "duration": 307,
    "start_time": "2022-01-27T08:58:17.546Z"
   },
   {
    "duration": 14,
    "start_time": "2022-01-27T08:58:25.665Z"
   },
   {
    "duration": 8,
    "start_time": "2022-01-27T08:58:50.786Z"
   },
   {
    "duration": 295,
    "start_time": "2022-01-27T08:59:07.555Z"
   },
   {
    "duration": 374,
    "start_time": "2022-01-27T09:00:02.966Z"
   },
   {
    "duration": 10,
    "start_time": "2022-01-27T09:01:32.266Z"
   },
   {
    "duration": 500,
    "start_time": "2022-01-27T09:01:47.101Z"
   },
   {
    "duration": 13,
    "start_time": "2022-01-27T09:01:48.397Z"
   },
   {
    "duration": 8,
    "start_time": "2022-01-27T09:35:55.962Z"
   },
   {
    "duration": 40,
    "start_time": "2022-01-27T09:44:25.006Z"
   },
   {
    "duration": 17,
    "start_time": "2022-01-27T09:44:31.494Z"
   },
   {
    "duration": 20,
    "start_time": "2022-01-27T09:44:39.164Z"
   },
   {
    "duration": 19,
    "start_time": "2022-01-27T09:47:41.854Z"
   },
   {
    "duration": 103,
    "start_time": "2022-01-27T09:49:01.037Z"
   },
   {
    "duration": 102,
    "start_time": "2022-01-27T09:49:07.629Z"
   },
   {
    "duration": 24,
    "start_time": "2022-01-27T09:49:24.215Z"
   },
   {
    "duration": 13,
    "start_time": "2022-01-27T09:51:44.336Z"
   },
   {
    "duration": 16,
    "start_time": "2022-01-27T09:52:20.137Z"
   },
   {
    "duration": 7,
    "start_time": "2022-01-27T09:52:30.707Z"
   },
   {
    "duration": 540,
    "start_time": "2022-01-27T09:52:53.407Z"
   },
   {
    "duration": 985,
    "start_time": "2022-01-27T09:53:15.217Z"
   },
   {
    "duration": 812,
    "start_time": "2022-01-27T09:53:31.369Z"
   },
   {
    "duration": 873,
    "start_time": "2022-01-27T09:53:40.838Z"
   },
   {
    "duration": 1348,
    "start_time": "2022-01-27T09:53:47.858Z"
   },
   {
    "duration": 1390,
    "start_time": "2022-01-27T09:54:07.108Z"
   },
   {
    "duration": 908,
    "start_time": "2022-01-27T09:54:13.518Z"
   },
   {
    "duration": 356,
    "start_time": "2022-01-27T13:31:22.646Z"
   },
   {
    "duration": 1154,
    "start_time": "2022-01-27T13:31:27.907Z"
   },
   {
    "duration": 2790,
    "start_time": "2022-01-27T13:31:29.063Z"
   },
   {
    "duration": 56,
    "start_time": "2022-01-27T13:31:31.855Z"
   },
   {
    "duration": 15,
    "start_time": "2022-01-27T13:31:31.913Z"
   },
   {
    "duration": 13,
    "start_time": "2022-01-27T13:31:31.930Z"
   },
   {
    "duration": 534,
    "start_time": "2022-01-27T13:31:31.945Z"
   },
   {
    "duration": 13,
    "start_time": "2022-01-27T13:31:32.480Z"
   },
   {
    "duration": 10,
    "start_time": "2022-01-27T13:31:32.495Z"
   },
   {
    "duration": 4,
    "start_time": "2022-01-27T13:31:32.507Z"
   },
   {
    "duration": 3,
    "start_time": "2022-01-27T13:31:32.512Z"
   },
   {
    "duration": 417,
    "start_time": "2022-01-27T13:31:32.516Z"
   },
   {
    "duration": 4,
    "start_time": "2022-01-27T13:31:32.935Z"
   },
   {
    "duration": 4,
    "start_time": "2022-01-27T13:31:32.941Z"
   },
   {
    "duration": 5,
    "start_time": "2022-01-27T13:31:32.946Z"
   },
   {
    "duration": 3,
    "start_time": "2022-01-27T13:31:32.971Z"
   },
   {
    "duration": 4,
    "start_time": "2022-01-27T13:31:32.976Z"
   },
   {
    "duration": 6,
    "start_time": "2022-01-27T13:31:32.981Z"
   },
   {
    "duration": 6,
    "start_time": "2022-01-27T13:31:32.988Z"
   },
   {
    "duration": 9,
    "start_time": "2022-01-27T13:31:32.995Z"
   },
   {
    "duration": 12,
    "start_time": "2022-01-27T13:31:33.005Z"
   },
   {
    "duration": 2342,
    "start_time": "2022-01-27T13:31:33.019Z"
   },
   {
    "duration": 3179,
    "start_time": "2022-01-27T13:31:35.363Z"
   },
   {
    "duration": 276,
    "start_time": "2022-01-27T13:31:38.545Z"
   },
   {
    "duration": 285,
    "start_time": "2022-01-27T13:31:38.823Z"
   },
   {
    "duration": 303,
    "start_time": "2022-01-27T13:31:39.109Z"
   },
   {
    "duration": 406,
    "start_time": "2022-01-27T13:31:39.414Z"
   },
   {
    "duration": 273,
    "start_time": "2022-01-27T13:31:39.822Z"
   },
   {
    "duration": 241,
    "start_time": "2022-01-27T13:31:40.097Z"
   },
   {
    "duration": 7,
    "start_time": "2022-01-27T13:31:40.340Z"
   },
   {
    "duration": 559,
    "start_time": "2022-01-27T13:31:40.349Z"
   },
   {
    "duration": 949,
    "start_time": "2022-01-27T13:32:19.490Z"
   },
   {
    "duration": 958,
    "start_time": "2022-01-27T13:32:26.941Z"
   },
   {
    "duration": 6,
    "start_time": "2022-01-27T13:32:48.542Z"
   },
   {
    "duration": 4,
    "start_time": "2022-01-28T06:33:30.065Z"
   },
   {
    "duration": 1164,
    "start_time": "2022-01-28T06:33:37.052Z"
   },
   {
    "duration": 3356,
    "start_time": "2022-01-28T06:33:38.218Z"
   },
   {
    "duration": 68,
    "start_time": "2022-01-28T06:33:41.576Z"
   },
   {
    "duration": 18,
    "start_time": "2022-01-28T06:33:41.646Z"
   },
   {
    "duration": 32,
    "start_time": "2022-01-28T06:33:41.665Z"
   },
   {
    "duration": 613,
    "start_time": "2022-01-28T06:33:41.699Z"
   },
   {
    "duration": 14,
    "start_time": "2022-01-28T06:33:42.313Z"
   },
   {
    "duration": 14,
    "start_time": "2022-01-28T06:33:42.329Z"
   },
   {
    "duration": 4,
    "start_time": "2022-01-28T06:33:42.345Z"
   },
   {
    "duration": 6,
    "start_time": "2022-01-28T06:33:42.350Z"
   },
   {
    "duration": 456,
    "start_time": "2022-01-28T06:33:42.358Z"
   },
   {
    "duration": 4,
    "start_time": "2022-01-28T06:33:42.816Z"
   },
   {
    "duration": 5,
    "start_time": "2022-01-28T06:33:42.822Z"
   },
   {
    "duration": 6,
    "start_time": "2022-01-28T06:33:42.829Z"
   },
   {
    "duration": 6,
    "start_time": "2022-01-28T06:33:42.837Z"
   },
   {
    "duration": 6,
    "start_time": "2022-01-28T06:33:42.844Z"
   },
   {
    "duration": 6,
    "start_time": "2022-01-28T06:33:42.852Z"
   },
   {
    "duration": 8,
    "start_time": "2022-01-28T06:33:42.860Z"
   },
   {
    "duration": 29,
    "start_time": "2022-01-28T06:33:42.869Z"
   },
   {
    "duration": 11,
    "start_time": "2022-01-28T06:33:42.900Z"
   },
   {
    "duration": 2685,
    "start_time": "2022-01-28T06:33:42.913Z"
   },
   {
    "duration": 3613,
    "start_time": "2022-01-28T06:33:45.600Z"
   },
   {
    "duration": 347,
    "start_time": "2022-01-28T06:33:49.216Z"
   },
   {
    "duration": 345,
    "start_time": "2022-01-28T06:33:49.565Z"
   },
   {
    "duration": 361,
    "start_time": "2022-01-28T06:33:49.911Z"
   },
   {
    "duration": 478,
    "start_time": "2022-01-28T06:33:50.274Z"
   },
   {
    "duration": 300,
    "start_time": "2022-01-28T06:33:50.754Z"
   },
   {
    "duration": 268,
    "start_time": "2022-01-28T06:33:51.055Z"
   },
   {
    "duration": 7,
    "start_time": "2022-01-28T06:33:51.324Z"
   },
   {
    "duration": 1021,
    "start_time": "2022-01-28T06:33:51.333Z"
   },
   {
    "duration": 7,
    "start_time": "2022-01-28T06:33:52.356Z"
   },
   {
    "duration": 6,
    "start_time": "2022-01-28T06:33:52.364Z"
   },
   {
    "duration": 1088,
    "start_time": "2022-01-28T06:36:02.590Z"
   },
   {
    "duration": 1263,
    "start_time": "2022-01-28T06:36:44.162Z"
   },
   {
    "duration": 5,
    "start_time": "2022-01-28T06:37:31.700Z"
   },
   {
    "duration": 2613,
    "start_time": "2022-01-28T06:37:35.720Z"
   },
   {
    "duration": 1892,
    "start_time": "2022-01-28T06:37:53.710Z"
   },
   {
    "duration": 2750,
    "start_time": "2022-01-28T06:39:05.691Z"
   },
   {
    "duration": 181,
    "start_time": "2022-01-28T06:41:29.091Z"
   },
   {
    "duration": 208,
    "start_time": "2022-01-28T06:41:35.285Z"
   },
   {
    "duration": 289,
    "start_time": "2022-01-28T06:41:59.902Z"
   },
   {
    "duration": 175,
    "start_time": "2022-01-28T06:42:09.606Z"
   },
   {
    "duration": 15,
    "start_time": "2022-01-28T06:43:43.234Z"
   },
   {
    "duration": 20,
    "start_time": "2022-01-28T06:43:59.373Z"
   },
   {
    "duration": 3,
    "start_time": "2022-01-28T06:44:08.844Z"
   },
   {
    "duration": 2798,
    "start_time": "2022-01-28T06:44:09.672Z"
   },
   {
    "duration": 29,
    "start_time": "2022-01-28T06:44:12.472Z"
   },
   {
    "duration": 22,
    "start_time": "2022-01-28T06:44:28.193Z"
   },
   {
    "duration": 22,
    "start_time": "2022-01-28T06:45:00.172Z"
   },
   {
    "duration": 22,
    "start_time": "2022-01-28T06:45:01.211Z"
   },
   {
    "duration": 2771,
    "start_time": "2022-01-28T06:45:45.053Z"
   },
   {
    "duration": 2758,
    "start_time": "2022-01-28T06:46:31.204Z"
   },
   {
    "duration": 2803,
    "start_time": "2022-01-28T06:47:23.553Z"
   },
   {
    "duration": 2820,
    "start_time": "2022-01-28T06:48:10.797Z"
   },
   {
    "duration": 2719,
    "start_time": "2022-01-28T06:48:47.853Z"
   },
   {
    "duration": 992,
    "start_time": "2022-01-28T06:49:30.723Z"
   },
   {
    "duration": 978,
    "start_time": "2022-01-28T06:49:41.014Z"
   },
   {
    "duration": 2944,
    "start_time": "2022-01-28T06:50:21.146Z"
   },
   {
    "duration": 2772,
    "start_time": "2022-01-28T06:50:43.945Z"
   },
   {
    "duration": 4624,
    "start_time": "2022-01-28T06:50:57.645Z"
   },
   {
    "duration": 181,
    "start_time": "2022-01-28T06:58:26.524Z"
   },
   {
    "duration": 3,
    "start_time": "2022-01-28T06:58:30.606Z"
   },
   {
    "duration": 25,
    "start_time": "2022-01-28T06:58:30.936Z"
   },
   {
    "duration": 16,
    "start_time": "2022-01-28T06:59:02.767Z"
   },
   {
    "duration": 525,
    "start_time": "2022-01-28T07:00:02.268Z"
   },
   {
    "duration": 1348,
    "start_time": "2022-01-28T08:28:12.429Z"
   },
   {
    "duration": 2323,
    "start_time": "2022-01-28T08:29:38.749Z"
   },
   {
    "duration": 4812,
    "start_time": "2022-01-28T08:31:11.928Z"
   },
   {
    "duration": 1529,
    "start_time": "2022-01-28T08:34:55.389Z"
   },
   {
    "duration": 419,
    "start_time": "2022-01-28T08:37:40.711Z"
   },
   {
    "duration": 2130,
    "start_time": "2022-01-28T08:38:22.990Z"
   },
   {
    "duration": 2341,
    "start_time": "2022-01-28T08:39:17.040Z"
   },
   {
    "duration": 2425,
    "start_time": "2022-01-28T08:39:40.996Z"
   },
   {
    "duration": 1095,
    "start_time": "2022-01-28T08:42:56.722Z"
   },
   {
    "duration": 774,
    "start_time": "2022-01-28T08:45:27.544Z"
   },
   {
    "duration": 1140,
    "start_time": "2022-01-28T08:46:05.583Z"
   },
   {
    "duration": 1072,
    "start_time": "2022-01-28T08:46:16.692Z"
   },
   {
    "duration": 1038,
    "start_time": "2022-01-28T08:46:45.813Z"
   },
   {
    "duration": 1242,
    "start_time": "2022-01-28T08:46:54.062Z"
   },
   {
    "duration": 1061,
    "start_time": "2022-01-28T08:47:29.593Z"
   },
   {
    "duration": 1347,
    "start_time": "2022-01-28T08:47:44.113Z"
   },
   {
    "duration": 2290,
    "start_time": "2022-01-28T08:48:06.075Z"
   },
   {
    "duration": 962,
    "start_time": "2022-01-28T08:48:18.882Z"
   },
   {
    "duration": 1164,
    "start_time": "2022-01-28T08:48:27.372Z"
   },
   {
    "duration": 930,
    "start_time": "2022-01-28T08:49:06.434Z"
   },
   {
    "duration": 934,
    "start_time": "2022-01-28T08:49:13.043Z"
   },
   {
    "duration": 921,
    "start_time": "2022-01-28T08:49:27.094Z"
   },
   {
    "duration": 1146,
    "start_time": "2022-01-28T08:49:32.644Z"
   },
   {
    "duration": 914,
    "start_time": "2022-01-28T08:49:47.383Z"
   },
   {
    "duration": 206,
    "start_time": "2022-01-28T08:51:35.186Z"
   },
   {
    "duration": 179,
    "start_time": "2022-01-28T08:53:06.115Z"
   },
   {
    "duration": 18,
    "start_time": "2022-01-28T08:53:12.175Z"
   },
   {
    "duration": 60,
    "start_time": "2022-01-28T08:53:36.355Z"
   },
   {
    "duration": 204,
    "start_time": "2022-01-28T08:53:39.534Z"
   },
   {
    "duration": 21,
    "start_time": "2022-01-28T08:54:02.375Z"
   },
   {
    "duration": 28,
    "start_time": "2022-01-28T08:54:07.925Z"
   },
   {
    "duration": 29,
    "start_time": "2022-01-28T08:54:46.036Z"
   },
   {
    "duration": 5,
    "start_time": "2022-01-28T08:59:22.346Z"
   },
   {
    "duration": 206,
    "start_time": "2022-01-28T09:01:42.798Z"
   },
   {
    "duration": 197,
    "start_time": "2022-01-28T09:01:57.440Z"
   },
   {
    "duration": 27,
    "start_time": "2022-01-28T09:02:04.526Z"
   },
   {
    "duration": 6,
    "start_time": "2022-01-28T09:06:02.278Z"
   },
   {
    "duration": 9,
    "start_time": "2022-01-28T09:08:13.697Z"
   },
   {
    "duration": 7,
    "start_time": "2022-01-28T09:09:55.039Z"
   },
   {
    "duration": 5,
    "start_time": "2022-01-28T09:11:30.050Z"
   },
   {
    "duration": 494,
    "start_time": "2022-01-28T09:12:53.310Z"
   },
   {
    "duration": 6,
    "start_time": "2022-01-28T09:13:02.310Z"
   },
   {
    "duration": 5,
    "start_time": "2022-01-28T09:14:39.750Z"
   },
   {
    "duration": 5,
    "start_time": "2022-01-28T09:15:08.702Z"
   },
   {
    "duration": 5,
    "start_time": "2022-01-28T09:15:31.871Z"
   },
   {
    "duration": 5,
    "start_time": "2022-01-28T09:15:34.944Z"
   },
   {
    "duration": 2583,
    "start_time": "2022-01-28T09:15:34.950Z"
   },
   {
    "duration": 64,
    "start_time": "2022-01-28T09:15:37.535Z"
   },
   {
    "duration": 17,
    "start_time": "2022-01-28T09:15:37.601Z"
   },
   {
    "duration": 17,
    "start_time": "2022-01-28T09:15:37.620Z"
   },
   {
    "duration": 604,
    "start_time": "2022-01-28T09:15:37.639Z"
   },
   {
    "duration": 12,
    "start_time": "2022-01-28T09:15:38.246Z"
   },
   {
    "duration": 12,
    "start_time": "2022-01-28T09:15:38.260Z"
   },
   {
    "duration": 24,
    "start_time": "2022-01-28T09:15:38.274Z"
   },
   {
    "duration": 9,
    "start_time": "2022-01-28T09:15:38.300Z"
   },
   {
    "duration": 423,
    "start_time": "2022-01-28T09:15:38.311Z"
   },
   {
    "duration": 5,
    "start_time": "2022-01-28T09:15:38.736Z"
   },
   {
    "duration": 7,
    "start_time": "2022-01-28T09:15:38.742Z"
   },
   {
    "duration": 13,
    "start_time": "2022-01-28T09:15:38.751Z"
   },
   {
    "duration": 7,
    "start_time": "2022-01-28T09:15:38.765Z"
   },
   {
    "duration": 5,
    "start_time": "2022-01-28T09:15:38.774Z"
   },
   {
    "duration": 6,
    "start_time": "2022-01-28T09:15:38.796Z"
   },
   {
    "duration": 9,
    "start_time": "2022-01-28T09:15:38.804Z"
   },
   {
    "duration": 5,
    "start_time": "2022-01-28T09:15:38.817Z"
   },
   {
    "duration": 8,
    "start_time": "2022-01-28T09:15:38.824Z"
   },
   {
    "duration": 2784,
    "start_time": "2022-01-28T09:15:38.833Z"
   },
   {
    "duration": 3927,
    "start_time": "2022-01-28T09:15:41.619Z"
   },
   {
    "duration": 353,
    "start_time": "2022-01-28T09:15:45.548Z"
   },
   {
    "duration": 357,
    "start_time": "2022-01-28T09:15:45.902Z"
   },
   {
    "duration": 359,
    "start_time": "2022-01-28T09:15:46.260Z"
   },
   {
    "duration": 358,
    "start_time": "2022-01-28T09:15:46.620Z"
   },
   {
    "duration": 302,
    "start_time": "2022-01-28T09:15:46.980Z"
   },
   {
    "duration": 258,
    "start_time": "2022-01-28T09:15:47.284Z"
   },
   {
    "duration": 7,
    "start_time": "2022-01-28T09:15:47.544Z"
   },
   {
    "duration": 1253,
    "start_time": "2022-01-28T09:15:47.553Z"
   },
   {
    "duration": 7,
    "start_time": "2022-01-28T09:15:48.808Z"
   },
   {
    "duration": 7,
    "start_time": "2022-01-28T09:15:48.816Z"
   },
   {
    "duration": 5293,
    "start_time": "2022-01-28T09:15:48.825Z"
   },
   {
    "duration": 21,
    "start_time": "2022-01-28T09:15:54.120Z"
   },
   {
    "duration": 21,
    "start_time": "2022-01-28T09:15:54.143Z"
   },
   {
    "duration": 45,
    "start_time": "2022-01-28T09:15:54.166Z"
   },
   {
    "duration": 3,
    "start_time": "2022-01-28T09:15:54.214Z"
   },
   {
    "duration": 38,
    "start_time": "2022-01-28T09:15:54.219Z"
   },
   {
    "duration": 13,
    "start_time": "2022-01-28T09:15:54.259Z"
   },
   {
    "duration": 920,
    "start_time": "2022-01-28T09:15:54.273Z"
   },
   {
    "duration": 5,
    "start_time": "2022-01-28T09:15:55.196Z"
   },
   {
    "duration": 11,
    "start_time": "2022-01-28T09:15:55.202Z"
   },
   {
    "duration": 7,
    "start_time": "2022-01-28T09:15:55.214Z"
   },
   {
    "duration": 4,
    "start_time": "2022-01-28T09:15:55.223Z"
   },
   {
    "duration": 190,
    "start_time": "2022-01-28T09:18:29.921Z"
   },
   {
    "duration": 189,
    "start_time": "2022-01-28T09:18:52.821Z"
   },
   {
    "duration": 6,
    "start_time": "2022-01-28T09:19:07.831Z"
   },
   {
    "duration": 7,
    "start_time": "2022-01-28T09:19:28.001Z"
   },
   {
    "duration": 6,
    "start_time": "2022-01-28T09:20:05.673Z"
   },
   {
    "duration": 7,
    "start_time": "2022-01-28T09:20:48.872Z"
   },
   {
    "duration": 7,
    "start_time": "2022-01-28T09:21:06.219Z"
   },
   {
    "duration": 5,
    "start_time": "2022-01-28T09:21:07.263Z"
   },
   {
    "duration": 60,
    "start_time": "2022-01-28T09:23:57.832Z"
   },
   {
    "duration": 7,
    "start_time": "2022-01-28T09:24:06.162Z"
   },
   {
    "duration": 8,
    "start_time": "2022-01-28T09:25:04.963Z"
   },
   {
    "duration": 5,
    "start_time": "2022-01-28T09:25:29.934Z"
   },
   {
    "duration": 67,
    "start_time": "2022-01-28T09:27:21.695Z"
   },
   {
    "duration": 8,
    "start_time": "2022-01-28T09:27:26.733Z"
   },
   {
    "duration": 82,
    "start_time": "2022-01-28T09:28:56.384Z"
   },
   {
    "duration": 4,
    "start_time": "2022-01-28T09:29:03.313Z"
   },
   {
    "duration": 172,
    "start_time": "2022-01-28T09:29:31.784Z"
   },
   {
    "duration": 183,
    "start_time": "2022-01-28T09:29:40.305Z"
   },
   {
    "duration": 186,
    "start_time": "2022-01-28T09:33:37.637Z"
   },
   {
    "duration": 223,
    "start_time": "2022-01-28T10:30:00.735Z"
   },
   {
    "duration": 7,
    "start_time": "2022-01-28T10:34:12.195Z"
   },
   {
    "duration": 7,
    "start_time": "2022-01-28T10:34:19.077Z"
   },
   {
    "duration": 192,
    "start_time": "2022-01-28T10:35:05.762Z"
   },
   {
    "duration": 190,
    "start_time": "2022-01-28T10:35:12.276Z"
   },
   {
    "duration": 185,
    "start_time": "2022-01-28T10:36:20.804Z"
   },
   {
    "duration": 197,
    "start_time": "2022-01-28T10:37:00.947Z"
   },
   {
    "duration": 13,
    "start_time": "2022-01-28T10:37:11.817Z"
   },
   {
    "duration": 8,
    "start_time": "2022-01-28T10:38:17.278Z"
   },
   {
    "duration": 7,
    "start_time": "2022-01-28T10:38:30.698Z"
   },
   {
    "duration": 7,
    "start_time": "2022-01-28T10:38:51.646Z"
   },
   {
    "duration": 13,
    "start_time": "2022-01-28T10:39:11.858Z"
   },
   {
    "duration": 174,
    "start_time": "2022-01-28T10:39:56.017Z"
   },
   {
    "duration": 8,
    "start_time": "2022-01-28T10:40:01.798Z"
   },
   {
    "duration": 12,
    "start_time": "2022-01-28T10:42:22.601Z"
   },
   {
    "duration": 2,
    "start_time": "2022-01-28T10:45:12.541Z"
   },
   {
    "duration": 8,
    "start_time": "2022-01-28T10:45:17.838Z"
   },
   {
    "duration": 14,
    "start_time": "2022-01-28T10:45:19.118Z"
   },
   {
    "duration": 12,
    "start_time": "2022-01-28T10:45:20.698Z"
   },
   {
    "duration": 13,
    "start_time": "2022-01-28T10:45:21.529Z"
   },
   {
    "duration": 12,
    "start_time": "2022-01-28T10:45:43.741Z"
   },
   {
    "duration": 12,
    "start_time": "2022-01-28T10:45:55.839Z"
   },
   {
    "duration": 11,
    "start_time": "2022-01-28T10:46:24.870Z"
   },
   {
    "duration": 7,
    "start_time": "2022-01-28T10:47:05.850Z"
   },
   {
    "duration": 11,
    "start_time": "2022-01-28T10:47:06.409Z"
   },
   {
    "duration": 12,
    "start_time": "2022-01-28T10:47:07.239Z"
   },
   {
    "duration": 11,
    "start_time": "2022-01-28T10:47:08.039Z"
   },
   {
    "duration": 860,
    "start_time": "2022-01-28T10:47:56.230Z"
   },
   {
    "duration": 15,
    "start_time": "2022-01-28T11:00:41.451Z"
   },
   {
    "duration": 9,
    "start_time": "2022-01-28T11:00:54.455Z"
   },
   {
    "duration": 9,
    "start_time": "2022-01-28T11:01:05.064Z"
   },
   {
    "duration": 13,
    "start_time": "2022-01-28T11:01:48.726Z"
   },
   {
    "duration": 12,
    "start_time": "2022-01-28T11:01:58.494Z"
   },
   {
    "duration": 11,
    "start_time": "2022-01-28T11:02:06.575Z"
   },
   {
    "duration": 8,
    "start_time": "2022-01-28T11:02:14.594Z"
   },
   {
    "duration": 1198,
    "start_time": "2022-01-29T13:13:35.884Z"
   },
   {
    "duration": 3,
    "start_time": "2022-01-29T13:13:37.085Z"
   },
   {
    "duration": 2843,
    "start_time": "2022-01-29T13:13:37.091Z"
   },
   {
    "duration": 33,
    "start_time": "2022-01-29T13:13:39.937Z"
   },
   {
    "duration": 17,
    "start_time": "2022-01-29T13:13:39.972Z"
   },
   {
    "duration": 15,
    "start_time": "2022-01-29T13:13:39.990Z"
   },
   {
    "duration": 489,
    "start_time": "2022-01-29T13:13:40.006Z"
   },
   {
    "duration": 13,
    "start_time": "2022-01-29T13:13:40.498Z"
   },
   {
    "duration": 13,
    "start_time": "2022-01-29T13:13:40.513Z"
   },
   {
    "duration": 4,
    "start_time": "2022-01-29T13:13:40.528Z"
   },
   {
    "duration": 4,
    "start_time": "2022-01-29T13:13:40.534Z"
   },
   {
    "duration": 447,
    "start_time": "2022-01-29T13:13:40.540Z"
   },
   {
    "duration": 4,
    "start_time": "2022-01-29T13:13:40.989Z"
   },
   {
    "duration": 7,
    "start_time": "2022-01-29T13:13:40.995Z"
   },
   {
    "duration": 8,
    "start_time": "2022-01-29T13:13:41.004Z"
   },
   {
    "duration": 5,
    "start_time": "2022-01-29T13:13:41.013Z"
   },
   {
    "duration": 5,
    "start_time": "2022-01-29T13:13:41.020Z"
   },
   {
    "duration": 35,
    "start_time": "2022-01-29T13:13:41.026Z"
   },
   {
    "duration": 7,
    "start_time": "2022-01-29T13:13:41.063Z"
   },
   {
    "duration": 5,
    "start_time": "2022-01-29T13:13:41.072Z"
   },
   {
    "duration": 11,
    "start_time": "2022-01-29T13:13:41.078Z"
   },
   {
    "duration": 1916,
    "start_time": "2022-01-29T13:13:41.091Z"
   },
   {
    "duration": 2730,
    "start_time": "2022-01-29T13:13:43.010Z"
   },
   {
    "duration": 261,
    "start_time": "2022-01-29T13:13:45.742Z"
   },
   {
    "duration": 267,
    "start_time": "2022-01-29T13:13:46.005Z"
   },
   {
    "duration": 276,
    "start_time": "2022-01-29T13:13:46.273Z"
   },
   {
    "duration": 260,
    "start_time": "2022-01-29T13:13:46.558Z"
   },
   {
    "duration": 256,
    "start_time": "2022-01-29T13:13:46.820Z"
   },
   {
    "duration": 243,
    "start_time": "2022-01-29T13:13:47.078Z"
   },
   {
    "duration": 8,
    "start_time": "2022-01-29T13:13:47.322Z"
   },
   {
    "duration": 769,
    "start_time": "2022-01-29T13:13:47.331Z"
   },
   {
    "duration": 7,
    "start_time": "2022-01-29T13:13:48.102Z"
   },
   {
    "duration": 3,
    "start_time": "2022-01-29T13:13:48.110Z"
   },
   {
    "duration": 4242,
    "start_time": "2022-01-29T13:13:48.114Z"
   },
   {
    "duration": 21,
    "start_time": "2022-01-29T13:13:52.359Z"
   },
   {
    "duration": 19,
    "start_time": "2022-01-29T13:13:52.382Z"
   },
   {
    "duration": 21,
    "start_time": "2022-01-29T13:13:52.403Z"
   },
   {
    "duration": 2,
    "start_time": "2022-01-29T13:13:52.426Z"
   },
   {
    "duration": 35,
    "start_time": "2022-01-29T13:13:52.460Z"
   },
   {
    "duration": 12,
    "start_time": "2022-01-29T13:13:52.496Z"
   },
   {
    "duration": 665,
    "start_time": "2022-01-29T13:13:52.510Z"
   },
   {
    "duration": 8,
    "start_time": "2022-01-29T13:13:53.176Z"
   },
   {
    "duration": 12,
    "start_time": "2022-01-29T13:13:53.185Z"
   },
   {
    "duration": 12,
    "start_time": "2022-01-29T13:13:53.199Z"
   },
   {
    "duration": 11,
    "start_time": "2022-01-29T13:13:53.212Z"
   },
   {
    "duration": 36,
    "start_time": "2022-01-29T13:13:53.224Z"
   }
  ],
  "kernelspec": {
   "display_name": "Python 3",
   "language": "python",
   "name": "python3"
  },
  "language_info": {
   "codemirror_mode": {
    "name": "ipython",
    "version": 3
   },
   "file_extension": ".py",
   "mimetype": "text/x-python",
   "name": "python",
   "nbconvert_exporter": "python",
   "pygments_lexer": "ipython3",
   "version": "3.7.8"
  },
  "toc": {
   "base_numbering": 1,
   "nav_menu": {},
   "number_sections": true,
   "sideBar": true,
   "skip_h1_title": true,
   "title_cell": "Содержание",
   "title_sidebar": "Contents",
   "toc_cell": true,
   "toc_position": {},
   "toc_section_display": true,
   "toc_window_display": false
  }
 },
 "nbformat": 4,
 "nbformat_minor": 2
}
