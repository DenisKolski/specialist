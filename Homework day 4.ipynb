{
 "cells": [
  {
   "cell_type": "markdown",
   "id": "71f9692c",
   "metadata": {},
   "source": [
    "__task 1__"
   ]
  },
  {
   "cell_type": "code",
   "execution_count": 1,
   "id": "b21410ca",
   "metadata": {},
   "outputs": [],
   "source": [
    "import numpy as np"
   ]
  },
  {
   "cell_type": "code",
   "execution_count": 2,
   "id": "3e794b9f",
   "metadata": {},
   "outputs": [],
   "source": [
    "import numpy as np\n",
    "np.random.seed(10)\n",
    "raw = np.random.randint(1,10, (10,10))\n",
    "\n"
   ]
  },
  {
   "cell_type": "code",
   "execution_count": 3,
   "id": "157336a4",
   "metadata": {},
   "outputs": [],
   "source": [
    "def summa(arr):\n",
    "    dop = np.eye(arr.shape[0])\n",
    "    diag = arr*dop\n",
    "    diag = diag[(diag%2==0)&(diag>0)]\n",
    "    if np.sum(diag)==np.nan:\n",
    "        return 0\n",
    "    else:    \n",
    "        return np.sum(diag)"
   ]
  },
  {
   "cell_type": "code",
   "execution_count": 4,
   "id": "f5e30120",
   "metadata": {},
   "outputs": [
    {
     "data": {
      "text/plain": [
       "24.0"
      ]
     },
     "execution_count": 4,
     "metadata": {},
     "output_type": "execute_result"
    }
   ],
   "source": [
    "summa(raw)"
   ]
  },
  {
   "cell_type": "markdown",
   "id": "9c0ab5cb",
   "metadata": {},
   "source": [
    "__task 2__"
   ]
  },
  {
   "cell_type": "code",
   "execution_count": 5,
   "id": "2537262e",
   "metadata": {},
   "outputs": [
    {
     "data": {
      "text/plain": [
       "array([[5, 1, 2, 1, 2, 9, 1, 9, 7, 5],\n",
       "       [4, 1, 5, 7, 9, 2, 9, 5, 2, 4],\n",
       "       [7, 6, 4, 7, 2, 5, 3, 7, 8, 9],\n",
       "       [9, 3, 1, 7, 8, 9, 2, 8, 2, 5],\n",
       "       [1, 9, 6, 5, 8, 9, 9, 3, 7, 3],\n",
       "       [9, 9, 7, 7, 6, 7, 1, 1, 7, 2],\n",
       "       [9, 2, 3, 9, 6, 1, 3, 8, 4, 1],\n",
       "       [5, 3, 1, 4, 4, 2, 3, 6, 1, 2],\n",
       "       [1, 2, 1, 3, 2, 2, 1, 1, 6, 1],\n",
       "       [5, 7, 7, 1, 3, 4, 4, 3, 7, 1]])"
      ]
     },
     "execution_count": 5,
     "metadata": {},
     "output_type": "execute_result"
    }
   ],
   "source": [
    "raw"
   ]
  },
  {
   "cell_type": "code",
   "execution_count": 6,
   "id": "0b1794d2",
   "metadata": {},
   "outputs": [
    {
     "data": {
      "text/plain": [
       "array([[   5,    1,    2,    1,    2, 1000,    1,    9,    7,    5],\n",
       "       [   4,    1,    5,    7,    9,    2,    9,    5,    2,    4],\n",
       "       [   7,    6,    4,    7,    2,    5,    3,    7,    8,    9],\n",
       "       [   9,    3,    1,    7,    8,    9,    2,    8,    2,    5],\n",
       "       [   1,    9,    6,    5,    8,    9,    9,    3,    7,    3],\n",
       "       [   9,    9,    7,    7,    6,    7,    1,    1,    7,    2],\n",
       "       [   9,    2,    3,    9,    6,    1,    3,    8,    4,    1],\n",
       "       [   5,    3,    1,    4,    4,    2,    3,    6,    1,    2],\n",
       "       [   1,    2,    1,    3,    2,    2,    1,    1,    6,    1],\n",
       "       [   5,    7,    7,    1,    3,    4,    4,    3,    7,    1]])"
      ]
     },
     "execution_count": 6,
     "metadata": {},
     "output_type": "execute_result"
    }
   ],
   "source": [
    "razmer = raw.shape\n",
    "tmp = raw.ravel()\n",
    "tmp[np.argmax(raw)] = 1000\n",
    "tmp = tmp.reshape(razmer)\n",
    "tmp"
   ]
  },
  {
   "cell_type": "code",
   "execution_count": 7,
   "id": "faaf72e5",
   "metadata": {},
   "outputs": [
    {
     "data": {
      "text/plain": [
       "array([[   5,    0,    2,    0,    2, 1000,    0,    9,    7,    5],\n",
       "       [   4,    0,    5,    7,    9,    2,    9,    5,    2,    4],\n",
       "       [   7,    6,    4,    7,    2,    5,    3,    7,    8,    9],\n",
       "       [   9,    3,    0,    7,    8,    9,    2,    8,    2,    5],\n",
       "       [   0,    9,    6,    5,    8,    9,    9,    3,    7,    3],\n",
       "       [   9,    9,    7,    7,    6,    7,    0,    0,    7,    2],\n",
       "       [   9,    2,    3,    9,    6,    0,    3,    8,    4,    0],\n",
       "       [   5,    3,    0,    4,    4,    2,    3,    6,    0,    2],\n",
       "       [   0,    2,    0,    3,    2,    2,    0,    0,    6,    0],\n",
       "       [   5,    7,    7,    0,    3,    4,    4,    3,    7,    0]])"
      ]
     },
     "execution_count": 7,
     "metadata": {},
     "output_type": "execute_result"
    }
   ],
   "source": [
    "tmp[tmp==np.min(tmp)] = 0\n",
    "tmp"
   ]
  },
  {
   "cell_type": "code",
   "execution_count": null,
   "id": "e819a663",
   "metadata": {},
   "outputs": [],
   "source": []
  }
 ],
 "metadata": {
  "kernelspec": {
   "display_name": "Python 3",
   "language": "python",
   "name": "python3"
  },
  "language_info": {
   "codemirror_mode": {
    "name": "ipython",
    "version": 3
   },
   "file_extension": ".py",
   "mimetype": "text/x-python",
   "name": "python",
   "nbconvert_exporter": "python",
   "pygments_lexer": "ipython3",
   "version": "3.8.8"
  }
 },
 "nbformat": 4,
 "nbformat_minor": 5
}
