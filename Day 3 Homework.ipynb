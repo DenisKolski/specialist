{
 "cells": [
  {
   "cell_type": "code",
   "execution_count": 2,
   "id": "7cdbe69a",
   "metadata": {},
   "outputs": [],
   "source": [
    "import sympy as sym\n",
    "sym.init_printing()"
   ]
  },
  {
   "cell_type": "markdown",
   "id": "0452443f",
   "metadata": {},
   "source": [
    "#### Задача № 8\n",
    "Пусть $F$ линейный оператор, действующий на пространстве многочленов степени не выше 2.  \n",
    "$F=3P+2P'+P''$ , где $P$ - сам многочлен, $P'$ - его производная, а  $P''$ - вторая производная.  \n",
    "Запишите матрицу этого отображения в базисе."
   ]
  },
  {
   "cell_type": "markdown",
   "id": "767d0d7c",
   "metadata": {},
   "source": [
    "**первая производная**"
   ]
  },
  {
   "cell_type": "code",
   "execution_count": 3,
   "id": "d59f3c6d",
   "metadata": {},
   "outputs": [
    {
     "data": {
      "text/latex": [
       "$\\displaystyle \\left[\\begin{matrix}0 & 2 & 0\\\\0 & 0 & 4\\\\0 & 0 & 0\\end{matrix}\\right]$"
      ],
      "text/plain": [
       "⎡0  2  0⎤\n",
       "⎢       ⎥\n",
       "⎢0  0  4⎥\n",
       "⎢       ⎥\n",
       "⎣0  0  0⎦"
      ]
     },
     "execution_count": 3,
     "metadata": {},
     "output_type": "execute_result"
    }
   ],
   "source": [
    "F1 = sym.Matrix(3,3, [0,0,0,1,0,0,0,2,0]).T*2; F1"
   ]
  },
  {
   "cell_type": "markdown",
   "id": "158a6af9",
   "metadata": {},
   "source": [
    "**вторая производная**"
   ]
  },
  {
   "cell_type": "code",
   "execution_count": 6,
   "id": "3bf6553c",
   "metadata": {},
   "outputs": [
    {
     "data": {
      "text/latex": [
       "$\\displaystyle \\left[\\begin{matrix}0 & 0 & 2\\\\0 & 0 & 0\\\\0 & 0 & 0\\end{matrix}\\right]$"
      ],
      "text/plain": [
       "⎡0  0  2⎤\n",
       "⎢       ⎥\n",
       "⎢0  0  0⎥\n",
       "⎢       ⎥\n",
       "⎣0  0  0⎦"
      ]
     },
     "execution_count": 6,
     "metadata": {},
     "output_type": "execute_result"
    }
   ],
   "source": [
    "F2 = sym.Matrix(3,3, [0,0,0,0,0,0,2,0,0]).T; F2"
   ]
  },
  {
   "cell_type": "code",
   "execution_count": 9,
   "id": "e0c9506b",
   "metadata": {},
   "outputs": [
    {
     "data": {
      "image/png": "[encoded data removed]",
      "text/latex": [
       "$\\displaystyle 2 x^{2} - 4 x + 12$"
      ],
      "text/plain": [
       "   2           \n",
       "2⋅x  - 4⋅x + 12"
      ]
     },
     "execution_count": 9,
     "metadata": {},
     "output_type": "execute_result"
    }
   ],
   "source": [
    "x,y,z = sym.symbols('x y z')\n",
    "P = 2*x**2 - 4*x +12; P"
   ]
  },
  {
   "cell_type": "code",
   "execution_count": 10,
   "id": "1aecaed6",
   "metadata": {},
   "outputs": [
    {
     "data": {
      "text/latex": [
       "$\\displaystyle \\left[\\begin{matrix}12\\\\-4\\\\2\\end{matrix}\\right]$"
      ],
      "text/plain": [
       "⎡12⎤\n",
       "⎢  ⎥\n",
       "⎢-4⎥\n",
       "⎢  ⎥\n",
       "⎣2 ⎦"
      ]
     },
     "execution_count": 10,
     "metadata": {},
     "output_type": "execute_result"
    }
   ],
   "source": [
    "PM = sym.Matrix([12, -4, 2]); PM"
   ]
  },
  {
   "cell_type": "code",
   "execution_count": 12,
   "id": "92406fd9",
   "metadata": {},
   "outputs": [
    {
     "data": {
      "text/latex": [
       "$\\displaystyle \\left[\\begin{matrix}32\\\\-4\\\\6\\end{matrix}\\right]$"
      ],
      "text/plain": [
       "⎡32⎤\n",
       "⎢  ⎥\n",
       "⎢-4⎥\n",
       "⎢  ⎥\n",
       "⎣6 ⎦"
      ]
     },
     "execution_count": 12,
     "metadata": {},
     "output_type": "execute_result"
    }
   ],
   "source": [
    "P = 3*  PM + F1 * PM + F2 * PM; P"
   ]
  },
  {
   "cell_type": "code",
   "execution_count": 13,
   "id": "01265f52",
   "metadata": {},
   "outputs": [
    {
     "data": {
      "text/latex": [
       "$\\displaystyle \\left[\\begin{matrix}3 & 2 & 2\\\\0 & 3 & 4\\\\0 & 0 & 3\\end{matrix}\\right]$"
      ],
      "text/plain": [
       "⎡3  2  2⎤\n",
       "⎢       ⎥\n",
       "⎢0  3  4⎥\n",
       "⎢       ⎥\n",
       "⎣0  0  3⎦"
      ]
     },
     "execution_count": 13,
     "metadata": {},
     "output_type": "execute_result"
    }
   ],
   "source": [
    "# матрица преобразования\n",
    "PR = 3 * sym.eye(3) + F1 + F2; PR"
   ]
  },
  {
   "cell_type": "code",
   "execution_count": 14,
   "id": "46d5300f",
   "metadata": {},
   "outputs": [
    {
     "data": {
      "text/latex": [
       "$\\displaystyle \\left[\\begin{matrix}32\\\\-4\\\\6\\end{matrix}\\right]$"
      ],
      "text/plain": [
       "⎡32⎤\n",
       "⎢  ⎥\n",
       "⎢-4⎥\n",
       "⎢  ⎥\n",
       "⎣6 ⎦"
      ]
     },
     "execution_count": 14,
     "metadata": {},
     "output_type": "execute_result"
    }
   ],
   "source": [
    "PR*PM"
   ]
  },
  {
   "cell_type": "markdown",
   "id": "a050463c",
   "metadata": {},
   "source": [
    "#### Задача № 9\n",
    "Линейное преобразование $F$ задано матрицей $A = \\begin{pmatrix}0 & -2 & 3 & 2\\\\1 & 1 & -1 & -1\\\\0 & 0 & 2 & 0\\\\1 & -1 & 0 & 1\\end{pmatrix}$  \n",
    "Найти собственные значение и собственные вектора"
   ]
  },
  {
   "cell_type": "code",
   "execution_count": 12,
   "id": "9ce480c3",
   "metadata": {},
   "outputs": [
    {
     "data": {
      "image/png": "[encoded data removed]",
      "text/latex": [
       "$\\displaystyle \\left\\{ 0 : 2, \\  2 : 2\\right\\}$"
      ],
      "text/plain": [
       "{0: 2, 2: 2}"
      ]
     },
     "execution_count": 12,
     "metadata": {},
     "output_type": "execute_result"
    }
   ],
   "source": [
    "M = sym.Matrix(4,4, [0,-2,3, 2, 1, 1, -1, -1, 0, 0, 2, 0, 1,-1,0,1]);M\n",
    "M.eigenvals()"
   ]
  },
  {
   "cell_type": "code",
   "execution_count": 13,
   "id": "ea8d1078",
   "metadata": {},
   "outputs": [
    {
     "data": {
      "text/latex": [
       "$\\displaystyle \\left[ \\left( 0, \\  2, \\  \\left[ \\left[\\begin{matrix}0\\\\1\\\\0\\\\1\\end{matrix}\\right]\\right]\\right), \\  \\left( 2, \\  2, \\  \\left[ \\left[\\begin{matrix}1\\\\0\\\\0\\\\1\\end{matrix}\\right]\\right]\\right)\\right]$"
      ],
      "text/plain": [
       "⎡⎛      ⎡⎡0⎤⎤⎞  ⎛      ⎡⎡1⎤⎤⎞⎤\n",
       "⎢⎜      ⎢⎢ ⎥⎥⎟  ⎜      ⎢⎢ ⎥⎥⎟⎥\n",
       "⎢⎜      ⎢⎢1⎥⎥⎟  ⎜      ⎢⎢0⎥⎥⎟⎥\n",
       "⎢⎜0, 2, ⎢⎢ ⎥⎥⎟, ⎜2, 2, ⎢⎢ ⎥⎥⎟⎥\n",
       "⎢⎜      ⎢⎢0⎥⎥⎟  ⎜      ⎢⎢0⎥⎥⎟⎥\n",
       "⎢⎜      ⎢⎢ ⎥⎥⎟  ⎜      ⎢⎢ ⎥⎥⎟⎥\n",
       "⎣⎝      ⎣⎣1⎦⎦⎠  ⎝      ⎣⎣1⎦⎦⎠⎦"
      ]
     },
     "execution_count": 13,
     "metadata": {},
     "output_type": "execute_result"
    }
   ],
   "source": [
    "M.eigenvects()\n"
   ]
  },
  {
   "cell_type": "code",
   "execution_count": null,
   "id": "33daeb46",
   "metadata": {},
   "outputs": [],
   "source": []
  }
 ],
 "metadata": {
  "kernelspec": {
   "display_name": "Python 3",
   "language": "python",
   "name": "python3"
  },
  "language_info": {
   "codemirror_mode": {
    "name": "ipython",
    "version": 3
   },
   "file_extension": ".py",
   "mimetype": "text/x-python",
   "name": "python",
   "nbconvert_exporter": "python",
   "pygments_lexer": "ipython3",
   "version": "3.8.8"
  }
 },
 "nbformat": 4,
 "nbformat_minor": 5
}
