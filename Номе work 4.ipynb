{
 "cells": [
  {
   "cell_type": "code",
   "execution_count": 1,
   "id": "1385c5ab",
   "metadata": {},
   "outputs": [],
   "source": [
    "import sympy as sym"
   ]
  },
  {
   "cell_type": "code",
   "execution_count": 3,
   "id": "c95051f3",
   "metadata": {},
   "outputs": [],
   "source": [
    "a = 10 + 4*sym.I"
   ]
  },
  {
   "cell_type": "code",
   "execution_count": 4,
   "id": "23fab067",
   "metadata": {},
   "outputs": [],
   "source": [
    "b = 4 - 4*sym.I"
   ]
  },
  {
   "cell_type": "code",
   "execution_count": 7,
   "id": "b410963e",
   "metadata": {},
   "outputs": [
    {
     "data": {
      "text/latex": [
       "$\\displaystyle 56 - 24 i$"
      ],
      "text/plain": [
       "56 - 24*I"
      ]
     },
     "execution_count": 7,
     "metadata": {},
     "output_type": "execute_result"
    }
   ],
   "source": [
    "(a*b).expand()"
   ]
  },
  {
   "cell_type": "code",
   "execution_count": 8,
   "id": "f2d886de",
   "metadata": {},
   "outputs": [
    {
     "data": {
      "text/latex": [
       "$\\displaystyle \\frac{3}{4} + \\frac{7 i}{4}$"
      ],
      "text/plain": [
       "3/4 + 7*I/4"
      ]
     },
     "execution_count": 8,
     "metadata": {},
     "output_type": "execute_result"
    }
   ],
   "source": [
    "(a/b).expand()"
   ]
  },
  {
   "cell_type": "code",
   "execution_count": 9,
   "id": "08a80034",
   "metadata": {},
   "outputs": [
    {
     "data": {
      "text/latex": [
       "$\\displaystyle 14$"
      ],
      "text/plain": [
       "14"
      ]
     },
     "execution_count": 9,
     "metadata": {},
     "output_type": "execute_result"
    }
   ],
   "source": [
    "(a+b).expand()"
   ]
  },
  {
   "cell_type": "code",
   "execution_count": 10,
   "id": "da9fcd1d",
   "metadata": {},
   "outputs": [
    {
     "data": {
      "text/latex": [
       "$\\displaystyle 6 + 8 i$"
      ],
      "text/plain": [
       "6 + 8*I"
      ]
     },
     "execution_count": 10,
     "metadata": {},
     "output_type": "execute_result"
    }
   ],
   "source": [
    "(a-b).expand()"
   ]
  },
  {
   "cell_type": "code",
   "execution_count": 11,
   "id": "5f112971",
   "metadata": {},
   "outputs": [
    {
     "data": {
      "text/latex": [
       "$\\displaystyle -6 - 8 i$"
      ],
      "text/plain": [
       "-6 - 8*I"
      ]
     },
     "execution_count": 11,
     "metadata": {},
     "output_type": "execute_result"
    }
   ],
   "source": [
    "(b-a).expand()"
   ]
  },
  {
   "cell_type": "code",
   "execution_count": 14,
   "id": "06f8aed1",
   "metadata": {},
   "outputs": [
    {
     "data": {
      "text/latex": [
       "$\\displaystyle 2 \\sqrt{29}$"
      ],
      "text/plain": [
       "2*sqrt(29)"
      ]
     },
     "execution_count": 14,
     "metadata": {},
     "output_type": "execute_result"
    }
   ],
   "source": [
    "a_trig = abs(a); a_trig"
   ]
  },
  {
   "cell_type": "code",
   "execution_count": 15,
   "id": "5b3b367c",
   "metadata": {},
   "outputs": [],
   "source": [
    "x,y,z = sym.symbols('x,y,z')"
   ]
  },
  {
   "cell_type": "code",
   "execution_count": 29,
   "id": "2d29cf82",
   "metadata": {},
   "outputs": [],
   "source": [
    "f = sym.sin(x)/x"
   ]
  },
  {
   "cell_type": "code",
   "execution_count": 33,
   "id": "9ccb7d55",
   "metadata": {},
   "outputs": [
    {
     "data": {
      "text/latex": [
       "$\\displaystyle 1$"
      ],
      "text/plain": [
       "1"
      ]
     },
     "execution_count": 33,
     "metadata": {},
     "output_type": "execute_result"
    }
   ],
   "source": [
    "sym.limit(f,x,0)"
   ]
  },
  {
   "cell_type": "code",
   "execution_count": null,
   "id": "0dd31927",
   "metadata": {},
   "outputs": [],
   "source": []
  }
 ],
 "metadata": {
  "kernelspec": {
   "display_name": "Python 3",
   "language": "python",
   "name": "python3"
  },
  "language_info": {
   "codemirror_mode": {
    "name": "ipython",
    "version": 3
   },
   "file_extension": ".py",
   "mimetype": "text/x-python",
   "name": "python",
   "nbconvert_exporter": "python",
   "pygments_lexer": "ipython3",
   "version": "3.8.8"
  }
 },
 "nbformat": 4,
 "nbformat_minor": 5
}
